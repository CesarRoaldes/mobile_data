{
 "cells": [
  {
   "cell_type": "code",
   "execution_count": null,
   "metadata": {},
   "outputs": [],
   "source": [
    "###################################################################\n",
    "################# Preparer le fond de carte #######################\n",
    "###################################################################\n",
    "from pykafka import KafkaClient\n",
    "import json \n",
    "import time\n",
    "import uuid \n",
    "import pandas as pd\n",
    "import numpy \n",
    "import time\n",
    "from datetime import datetime, timedelta\n",
    "\n",
    "input_file= pd.read_csv('~/projet_stream/simulator/mobile_data/kafka_minimal_df.csv')\n",
    "input_file.PhoneId = input_file.PhoneId.astype(str)\n",
    "base = datetime.now()\n",
    "time_list = [base + timedelta(minutes=i) for i in range(len(input_file.t.unique()))]\n",
    "time_list = [t.strftime(\"%m-%d-%Y %H:%M:%S\") for t in time_list]\n",
    "mergetime = pd.concat([pd.DataFrame(input_file.t.unique()),pd.DataFrame(time_list)],axis=1)\n",
    "mergetime.columns =['t','timestamp']\n",
    "input_file = input_file.merge(mergetime,on='t')"
   ]
  },
  {
   "cell_type": "code",
   "execution_count": null,
   "metadata": {},
   "outputs": [],
   "source": [
    "###################################################################\n",
    "################# Préparer la base d'input Kafka ##################\n",
    "###################################################################\n",
    "files = [f for f in os.listdir(DATA_PATH) if (os.path.isfile(os.path.join(DATA_PATH, f)) and re.match('\\\\d_MNO_MNO1.csv', f[-14:]))]"
   ]
  },
  {
   "cell_type": "code",
   "execution_count": null,
   "metadata": {},
   "outputs": [],
   "source": []
  },
  {
   "cell_type": "code",
   "execution_count": 1,
   "metadata": {},
   "outputs": [],
   "source": [
    "import os "
   ]
  },
  {
   "cell_type": "code",
   "execution_count": 2,
   "metadata": {},
   "outputs": [
    {
     "data": {
      "text/plain": [
       "'/home/cerezamo/projet_stream/simulator/mobile_data'"
      ]
     },
     "execution_count": 2,
     "metadata": {},
     "output_type": "execute_result"
    }
   ],
   "source": [
    "os.getcwd()"
   ]
  },
  {
   "cell_type": "code",
   "execution_count": null,
   "metadata": {},
   "outputs": [],
   "source": []
  }
 ],
 "metadata": {
  "kernelspec": {
   "display_name": "Python 3",
   "language": "python",
   "name": "python3"
  },
  "language_info": {
   "codemirror_mode": {
    "name": "ipython",
    "version": 3
   },
   "file_extension": ".py",
   "mimetype": "text/x-python",
   "name": "python",
   "nbconvert_exporter": "python",
   "pygments_lexer": "ipython3",
   "version": "3.7.7"
  }
 },
 "nbformat": 4,
 "nbformat_minor": 4
}
