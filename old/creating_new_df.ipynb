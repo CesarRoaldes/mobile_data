{
 "cells": [
  {
   "cell_type": "code",
   "execution_count": 1,
   "metadata": {},
   "outputs": [
    {
     "data": {
      "text/html": [
       "<div>\n",
       "<style scoped>\n",
       "    .dataframe tbody tr th:only-of-type {\n",
       "        vertical-align: middle;\n",
       "    }\n",
       "\n",
       "    .dataframe tbody tr th {\n",
       "        vertical-align: top;\n",
       "    }\n",
       "\n",
       "    .dataframe thead th {\n",
       "        text-align: right;\n",
       "    }\n",
       "</style>\n",
       "<table border=\"1\" class=\"dataframe\">\n",
       "  <thead>\n",
       "    <tr style=\"text-align: right;\">\n",
       "      <th></th>\n",
       "      <th>t</th>\n",
       "      <th>AntennaId</th>\n",
       "      <th>EventCode</th>\n",
       "      <th>PhoneId</th>\n",
       "      <th>x</th>\n",
       "      <th>y</th>\n",
       "      <th>TileId</th>\n",
       "      <th>timestamp</th>\n",
       "    </tr>\n",
       "  </thead>\n",
       "  <tbody>\n",
       "    <tr>\n",
       "      <th>0</th>\n",
       "      <td>0</td>\n",
       "      <td>227</td>\n",
       "      <td>0</td>\n",
       "      <td>296</td>\n",
       "      <td>600995.281445</td>\n",
       "      <td>652785.571876</td>\n",
       "      <td>1147</td>\n",
       "      <td>05-01-2020 23:54:11</td>\n",
       "    </tr>\n",
       "    <tr>\n",
       "      <th>1</th>\n",
       "      <td>0</td>\n",
       "      <td>227</td>\n",
       "      <td>0</td>\n",
       "      <td>297</td>\n",
       "      <td>600995.281445</td>\n",
       "      <td>652785.571876</td>\n",
       "      <td>1147</td>\n",
       "      <td>05-01-2020 23:54:11</td>\n",
       "    </tr>\n",
       "    <tr>\n",
       "      <th>2</th>\n",
       "      <td>0</td>\n",
       "      <td>194</td>\n",
       "      <td>0</td>\n",
       "      <td>289</td>\n",
       "      <td>600384.426337</td>\n",
       "      <td>650135.919067</td>\n",
       "      <td>439</td>\n",
       "      <td>05-01-2020 23:54:11</td>\n",
       "    </tr>\n",
       "    <tr>\n",
       "      <th>3</th>\n",
       "      <td>0</td>\n",
       "      <td>180</td>\n",
       "      <td>0</td>\n",
       "      <td>257</td>\n",
       "      <td>600901.554282</td>\n",
       "      <td>651774.870814</td>\n",
       "      <td>876</td>\n",
       "      <td>05-01-2020 23:54:11</td>\n",
       "    </tr>\n",
       "    <tr>\n",
       "      <th>4</th>\n",
       "      <td>0</td>\n",
       "      <td>161</td>\n",
       "      <td>0</td>\n",
       "      <td>259</td>\n",
       "      <td>600203.078702</td>\n",
       "      <td>651730.080000</td>\n",
       "      <td>869</td>\n",
       "      <td>05-01-2020 23:54:11</td>\n",
       "    </tr>\n",
       "    <tr>\n",
       "      <th>...</th>\n",
       "      <td>...</td>\n",
       "      <td>...</td>\n",
       "      <td>...</td>\n",
       "      <td>...</td>\n",
       "      <td>...</td>\n",
       "      <td>...</td>\n",
       "      <td>...</td>\n",
       "      <td>...</td>\n",
       "    </tr>\n",
       "    <tr>\n",
       "      <th>1429</th>\n",
       "      <td>49</td>\n",
       "      <td>45</td>\n",
       "      <td>0</td>\n",
       "      <td>273</td>\n",
       "      <td>600005.273553</td>\n",
       "      <td>648885.714946</td>\n",
       "      <td>84</td>\n",
       "      <td>05-02-2020 00:43:11</td>\n",
       "    </tr>\n",
       "    <tr>\n",
       "      <th>1430</th>\n",
       "      <td>49</td>\n",
       "      <td>24</td>\n",
       "      <td>2</td>\n",
       "      <td>230</td>\n",
       "      <td>600448.807269</td>\n",
       "      <td>652805.610380</td>\n",
       "      <td>1168</td>\n",
       "      <td>05-02-2020 00:43:11</td>\n",
       "    </tr>\n",
       "    <tr>\n",
       "      <th>1431</th>\n",
       "      <td>49</td>\n",
       "      <td>23</td>\n",
       "      <td>2</td>\n",
       "      <td>297</td>\n",
       "      <td>600030.651665</td>\n",
       "      <td>651928.353400</td>\n",
       "      <td>921</td>\n",
       "      <td>05-02-2020 00:43:11</td>\n",
       "    </tr>\n",
       "    <tr>\n",
       "      <th>1432</th>\n",
       "      <td>49</td>\n",
       "      <td>23</td>\n",
       "      <td>2</td>\n",
       "      <td>296</td>\n",
       "      <td>600030.651665</td>\n",
       "      <td>651928.353400</td>\n",
       "      <td>921</td>\n",
       "      <td>05-02-2020 00:43:11</td>\n",
       "    </tr>\n",
       "    <tr>\n",
       "      <th>1433</th>\n",
       "      <td>49</td>\n",
       "      <td>23</td>\n",
       "      <td>2</td>\n",
       "      <td>259</td>\n",
       "      <td>600078.941324</td>\n",
       "      <td>651854.245087</td>\n",
       "      <td>895</td>\n",
       "      <td>05-02-2020 00:43:11</td>\n",
       "    </tr>\n",
       "  </tbody>\n",
       "</table>\n",
       "<p>1434 rows × 8 columns</p>\n",
       "</div>"
      ],
      "text/plain": [
       "       t  AntennaId  EventCode PhoneId              x              y  TileId  \\\n",
       "0      0        227          0     296  600995.281445  652785.571876    1147   \n",
       "1      0        227          0     297  600995.281445  652785.571876    1147   \n",
       "2      0        194          0     289  600384.426337  650135.919067     439   \n",
       "3      0        180          0     257  600901.554282  651774.870814     876   \n",
       "4      0        161          0     259  600203.078702  651730.080000     869   \n",
       "...   ..        ...        ...     ...            ...            ...     ...   \n",
       "1429  49         45          0     273  600005.273553  648885.714946      84   \n",
       "1430  49         24          2     230  600448.807269  652805.610380    1168   \n",
       "1431  49         23          2     297  600030.651665  651928.353400     921   \n",
       "1432  49         23          2     296  600030.651665  651928.353400     921   \n",
       "1433  49         23          2     259  600078.941324  651854.245087     895   \n",
       "\n",
       "                timestamp  \n",
       "0     05-01-2020 23:54:11  \n",
       "1     05-01-2020 23:54:11  \n",
       "2     05-01-2020 23:54:11  \n",
       "3     05-01-2020 23:54:11  \n",
       "4     05-01-2020 23:54:11  \n",
       "...                   ...  \n",
       "1429  05-02-2020 00:43:11  \n",
       "1430  05-02-2020 00:43:11  \n",
       "1431  05-02-2020 00:43:11  \n",
       "1432  05-02-2020 00:43:11  \n",
       "1433  05-02-2020 00:43:11  \n",
       "\n",
       "[1434 rows x 8 columns]"
      ]
     },
     "execution_count": 1,
     "metadata": {},
     "output_type": "execute_result"
    }
   ],
   "source": [
    "from pykafka import KafkaClient\n",
    "import json \n",
    "import time\n",
    "import uuid \n",
    "import pandas as pd\n",
    "import numpy \n",
    "import time\n",
    "from datetime import datetime, timedelta\n",
    "\n",
    "input_file= pd.read_csv('~/projet_stream/simulator/mobile_data/kafka_minimal_df.csv')\n",
    "\n",
    "#client = KafkaClient(hosts=\"localhost:9092\")\n",
    "#topic=client.topics['antennos']\n",
    "#producer = topic.get_sync_producer()\n",
    "\n",
    "#input_file = input_file[['t','PhoneId','x','y']]\n",
    "\n",
    "input_file.PhoneId = input_file.PhoneId.astype(str)\n",
    "#input_file.x = input_file.x/1000\n",
    "#input_file.y = input_file.y/1000\n",
    "\n",
    "\n",
    "base = datetime.now()\n",
    "time_list = [base + timedelta(minutes=i) for i in range(len(input_file.t.unique()))]\n",
    "#time_list = [time.mktime(t.timetuple()) for t in time_list]\n",
    "time_list = [t.strftime(\"%m-%d-%Y %H:%M:%S\") for t in time_list]\n",
    "\n",
    "mergetime = pd.concat([pd.DataFrame(input_file.t.unique()),pd.DataFrame(time_list)],axis=1)\n",
    "mergetime.columns =['t','timestamp']\n",
    "input_file = input_file.merge(mergetime,on='t')\n",
    "#input_file.timestamp = input_file.timestamp.astype(int)\n",
    "input_file"
   ]
  },
  {
   "cell_type": "code",
   "execution_count": 2,
   "metadata": {},
   "outputs": [],
   "source": [
    "input_file.to_csv('../kafka_ingestion.csv',index=False,header=True)"
   ]
  },
  {
   "cell_type": "code",
   "execution_count": 3,
   "metadata": {},
   "outputs": [],
   "source": [
    "import os\n",
    "os.environ['PYSPARK_SUBMIT_ARGS'] = '--packages org.apache.spark:spark-sql-kafka-0-10_2.11:2.4.5 pyspark-shell'\n",
    "import pyspark\n",
    "import os\n",
    "import re\n",
    "from kafka import SimpleProducer, KafkaClient\n",
    "from kafka import KafkaProducer\n",
    "from pyspark.streaming import StreamingContext\n",
    "from pyspark.sql import Column, DataFrame, Row, SparkSession\n",
    "from pyspark.streaming.kafka import KafkaUtils\n",
    "from pyspark import SparkConf, SparkContext\n",
    "import time \n",
    "from pyspark.sql import SparkSession\n",
    "from pyspark.sql.functions import unix_timestamp, col\n",
    "from pyspark.sql import Window\n",
    "from pyspark.sql.functions import *\n",
    "spark = SparkSession.builder \\\n",
    "  .appName(\"Spark Structured Streaming from Kafka\") \\\n",
    "  .getOrCreate()\n",
    "sdfRides = spark \\\n",
    "  .readStream \\\n",
    "  .format(\"kafka\") \\\n",
    "  .option(\"kafka.bootstrap.servers\", \"localhost:9092\") \\\n",
    "  .option(\"subscribe\", \"antennes\") \\\n",
    "  .option(\"startingOffsets\", \"latest\") \\\n",
    "  .load() \\\n",
    "  .selectExpr(\"CAST(value AS STRING)\")\n",
    "\n",
    "from pyspark.sql.types import *\n",
    "schema = StructType([StructField(\"t\", IntegerType()),\n",
    "                     StructField(\"AntennaId\", IntegerType()),\n",
    "                     StructField(\"EventCode\", IntegerType()),\n",
    "                     StructField(\"PhoneId\", IntegerType()),\n",
    "                     StructField(\"x\", FloatType()),\n",
    "                     StructField(\"y\", FloatType()),\n",
    "                     StructField(\"TileId\", IntegerType()),\n",
    "                     StructField(\"timestamp\", StringType())])"
   ]
  },
  {
   "cell_type": "code",
   "execution_count": 4,
   "metadata": {},
   "outputs": [],
   "source": [
    "#df = spark.read.csv('../kafka_minimal_df.csv',header=True,schema=schema)\n",
    "df = spark.read.csv('../kafka_ingestion.csv',header=True,schema=schema)"
   ]
  },
  {
   "cell_type": "code",
   "execution_count": 5,
   "metadata": {},
   "outputs": [],
   "source": [
    "from pyspark.sql.functions import unix_timestamp, col\n",
    "df=df.withColumn('timestamp',unix_timestamp(df.timestamp, 'MM-dd-yyyy HH:mm:ss').cast(TimestampType()).alias(\"timestamp\"))\n",
    "sdfAntennes = df.where(\"EventCode!=1\")"
   ]
  },
  {
   "cell_type": "code",
   "execution_count": 6,
   "metadata": {},
   "outputs": [],
   "source": [
    "sdfAntennes = sdfAntennes.withColumn('x', sdfAntennes.x/1000).withColumn('y', sdfAntennes.y/1000)"
   ]
  },
  {
   "cell_type": "code",
   "execution_count": 7,
   "metadata": {},
   "outputs": [],
   "source": [
    "sdfLoc = sdfAntennes.withWatermark(\"timestamp\", \"10 minutes\").groupBy(\"PhoneId\", window(\"timestamp\", \"1 minutes\",\"1 minutes\")).avg('x','y')"
   ]
  },
  {
   "cell_type": "code",
   "execution_count": 8,
   "metadata": {},
   "outputs": [
    {
     "name": "stdout",
     "output_type": "stream",
     "text": [
      "+-------+--------------------+-----------+-----------+\n",
      "|PhoneId|              window|     avg(x)|     avg(y)|\n",
      "+-------+--------------------+-----------+-----------+\n",
      "|    253|[2020-05-01 23:57...|600.3348125|649.5083125|\n",
      "|    246|[2020-05-02 00:10...|599.9878125|651.9330625|\n",
      "|    273|[2020-05-02 00:19...| 600.098625|649.1323125|\n",
      "|    296|[2020-05-02 00:20...|601.0140625|652.9041875|\n",
      "|    270|[2020-05-02 00:32...|  600.03675| 651.380125|\n",
      "|    246|[2020-05-02 00:32...|599.9878125|651.9330625|\n",
      "|    296|[2020-05-02 00:40...| 600.030625| 651.928375|\n",
      "|    270|[2020-05-02 00:00...| 600.831625|  650.57275|\n",
      "|    284|[2020-05-02 00:04...|600.6393125|651.2441875|\n",
      "|    284|[2020-05-02 00:26...|601.4441875|651.4429375|\n",
      "|    284|[2020-05-02 00:31...|601.4441875|651.4429375|\n",
      "|    292|[2020-05-02 00:36...|601.7929375| 650.162375|\n",
      "|    245|[2020-05-02 00:36...|599.9878125|651.9330625|\n",
      "|    246|[2020-05-02 00:42...|  600.00575|  652.09325|\n",
      "|    270|[2020-05-02 00:33...|  600.03675| 651.380125|\n",
      "|    241|[2020-05-02 00:39...|601.4470625|650.9240625|\n",
      "|    284|[2020-05-02 00:41...| 600.740125|  650.96625|\n",
      "|    270|[2020-05-02 00:16...| 599.969625|     650.74|\n",
      "|    268|[2020-05-02 00:17...|  600.41025|    650.779|\n",
      "|    242|[2020-05-02 00:20...|602.0944375| 650.171375|\n",
      "+-------+--------------------+-----------+-----------+\n",
      "only showing top 20 rows\n",
      "\n"
     ]
    }
   ],
   "source": [
    "sdfLoc.show()"
   ]
  },
  {
   "cell_type": "code",
   "execution_count": 9,
   "metadata": {},
   "outputs": [],
   "source": [
    "sdfLoc2 = sdfLoc.select(col(\"PhoneId\").alias(\"PhoneId\"), col(\"window\").alias(\"time\"),col(\"avg(x)\").alias(\"x\"),col(\"avg(y)\").alias(\"y\"))"
   ]
  },
  {
   "cell_type": "code",
   "execution_count": 10,
   "metadata": {},
   "outputs": [
    {
     "name": "stdout",
     "output_type": "stream",
     "text": [
      "+-------+--------------------+-----------+-----------+\n",
      "|PhoneId|                time|          x|          y|\n",
      "+-------+--------------------+-----------+-----------+\n",
      "|    253|[2020-05-01 23:57...|600.3348125|649.5083125|\n",
      "|    246|[2020-05-02 00:10...|599.9878125|651.9330625|\n",
      "|    273|[2020-05-02 00:19...| 600.098625|649.1323125|\n",
      "|    296|[2020-05-02 00:20...|601.0140625|652.9041875|\n",
      "|    270|[2020-05-02 00:32...|  600.03675| 651.380125|\n",
      "|    246|[2020-05-02 00:32...|599.9878125|651.9330625|\n",
      "|    296|[2020-05-02 00:40...| 600.030625| 651.928375|\n",
      "|    270|[2020-05-02 00:00...| 600.831625|  650.57275|\n",
      "|    284|[2020-05-02 00:04...|600.6393125|651.2441875|\n",
      "|    284|[2020-05-02 00:26...|601.4441875|651.4429375|\n",
      "|    284|[2020-05-02 00:31...|601.4441875|651.4429375|\n",
      "|    292|[2020-05-02 00:36...|601.7929375| 650.162375|\n",
      "|    245|[2020-05-02 00:36...|599.9878125|651.9330625|\n",
      "|    246|[2020-05-02 00:42...|  600.00575|  652.09325|\n",
      "|    270|[2020-05-02 00:33...|  600.03675| 651.380125|\n",
      "|    241|[2020-05-02 00:39...|601.4470625|650.9240625|\n",
      "|    284|[2020-05-02 00:41...| 600.740125|  650.96625|\n",
      "|    270|[2020-05-02 00:16...| 599.969625|     650.74|\n",
      "|    268|[2020-05-02 00:17...|  600.41025|    650.779|\n",
      "|    242|[2020-05-02 00:20...|602.0944375| 650.171375|\n",
      "+-------+--------------------+-----------+-----------+\n",
      "only showing top 20 rows\n",
      "\n"
     ]
    }
   ],
   "source": [
    "sdfLoc2.show()"
   ]
  },
  {
   "cell_type": "code",
   "execution_count": 11,
   "metadata": {},
   "outputs": [
    {
     "name": "stdout",
     "output_type": "stream",
     "text": [
      "+---+--------------------+\n",
      "|key|               value|\n",
      "+---+--------------------+\n",
      "|253|{\"PhoneId\":253,\"w...|\n",
      "|246|{\"PhoneId\":246,\"w...|\n",
      "|273|{\"PhoneId\":273,\"w...|\n",
      "|296|{\"PhoneId\":296,\"w...|\n",
      "|270|{\"PhoneId\":270,\"w...|\n",
      "|246|{\"PhoneId\":246,\"w...|\n",
      "|296|{\"PhoneId\":296,\"w...|\n",
      "|270|{\"PhoneId\":270,\"w...|\n",
      "|284|{\"PhoneId\":284,\"w...|\n",
      "|284|{\"PhoneId\":284,\"w...|\n",
      "|284|{\"PhoneId\":284,\"w...|\n",
      "|292|{\"PhoneId\":292,\"w...|\n",
      "|245|{\"PhoneId\":245,\"w...|\n",
      "|246|{\"PhoneId\":246,\"w...|\n",
      "|270|{\"PhoneId\":270,\"w...|\n",
      "|241|{\"PhoneId\":241,\"w...|\n",
      "|284|{\"PhoneId\":284,\"w...|\n",
      "|270|{\"PhoneId\":270,\"w...|\n",
      "|268|{\"PhoneId\":268,\"w...|\n",
      "|242|{\"PhoneId\":242,\"w...|\n",
      "+---+--------------------+\n",
      "only showing top 20 rows\n",
      "\n"
     ]
    }
   ],
   "source": [
    "sdfLoc \\\n",
    "         .selectExpr(\"CAST(PhoneId AS STRING) AS key\", \"to_json(struct(*)) AS value\").show()"
   ]
  },
  {
   "cell_type": "code",
   "execution_count": 12,
   "metadata": {},
   "outputs": [],
   "source": [
    "sdf = sdfLoc.withColumn(\"key\", lit(0))"
   ]
  },
  {
   "cell_type": "code",
   "execution_count": 13,
   "metadata": {},
   "outputs": [],
   "source": [
    "sdf = sdfAntennes.withColumn(\"key\", lit(0))"
   ]
  },
  {
   "cell_type": "code",
   "execution_count": 14,
   "metadata": {},
   "outputs": [
    {
     "data": {
      "text/plain": [
       "DataFrame[key: int, x: array<double>, y: array<double>, PhoneId: array<int>]"
      ]
     },
     "execution_count": 14,
     "metadata": {},
     "output_type": "execute_result"
    }
   ],
   "source": [
    "sdf.groupBy('key').agg(collect_list(\"x\").alias(\"x\"),collect_list(\"y\").alias(\"y\"), collect_list(\"PhoneId\").alias(\"PhoneId\"))"
   ]
  },
  {
   "cell_type": "code",
   "execution_count": 17,
   "metadata": {},
   "outputs": [
    {
     "data": {
      "text/plain": [
       "DataFrame[t: int, AntennaId: int, EventCode: int, PhoneId: int, x: double, y: double, TileId: int, timestamp: timestamp, key: int]"
      ]
     },
     "execution_count": 17,
     "metadata": {},
     "output_type": "execute_result"
    }
   ],
   "source": [
    "sdf"
   ]
  },
  {
   "cell_type": "code",
   "execution_count": 16,
   "metadata": {},
   "outputs": [
    {
     "name": "stdout",
     "output_type": "stream",
     "text": [
      "+--------------------------------------------------------------------------------------------------------------------------------------------------------------------------------------------------------------------------------------------------------------------------------------------------------------------------------------------------------------------------+\n",
      "|structstojson(named_struct(NamePlaceholder(), t AS `t`, NamePlaceholder(), AntennaId AS `AntennaId`, NamePlaceholder(), EventCode AS `EventCode`, NamePlaceholder(), PhoneId AS `PhoneId`, NamePlaceholder(), x AS `x`, NamePlaceholder(), y AS `y`, NamePlaceholder(), TileId AS `TileId`, NamePlaceholder(), timestamp AS `timestamp`, NamePlaceholder(), key AS `key`))|\n",
      "+--------------------------------------------------------------------------------------------------------------------------------------------------------------------------------------------------------------------------------------------------------------------------------------------------------------------------------------------------------------------------+\n",
      "|                                                                                                                                                                                                                                                                                                                                                      {\"t\":0,\"AntennaId...|\n",
      "|                                                                                                                                                                                                                                                                                                                                                      {\"t\":0,\"AntennaId...|\n",
      "|                                                                                                                                                                                                                                                                                                                                                      {\"t\":0,\"AntennaId...|\n",
      "|                                                                                                                                                                                                                                                                                                                                                      {\"t\":0,\"AntennaId...|\n",
      "|                                                                                                                                                                                                                                                                                                                                                      {\"t\":0,\"AntennaId...|\n",
      "|                                                                                                                                                                                                                                                                                                                                                      {\"t\":0,\"AntennaId...|\n",
      "|                                                                                                                                                                                                                                                                                                                                                      {\"t\":0,\"AntennaId...|\n",
      "|                                                                                                                                                                                                                                                                                                                                                      {\"t\":0,\"AntennaId...|\n",
      "|                                                                                                                                                                                                                                                                                                                                                      {\"t\":0,\"AntennaId...|\n",
      "|                                                                                                                                                                                                                                                                                                                                                      {\"t\":0,\"AntennaId...|\n",
      "|                                                                                                                                                                                                                                                                                                                                                      {\"t\":0,\"AntennaId...|\n",
      "|                                                                                                                                                                                                                                                                                                                                                      {\"t\":0,\"AntennaId...|\n",
      "|                                                                                                                                                                                                                                                                                                                                                      {\"t\":0,\"AntennaId...|\n",
      "|                                                                                                                                                                                                                                                                                                                                                      {\"t\":0,\"AntennaId...|\n",
      "|                                                                                                                                                                                                                                                                                                                                                      {\"t\":0,\"AntennaId...|\n",
      "|                                                                                                                                                                                                                                                                                                                                                      {\"t\":0,\"AntennaId...|\n",
      "|                                                                                                                                                                                                                                                                                                                                                      {\"t\":0,\"AntennaId...|\n",
      "|                                                                                                                                                                                                                                                                                                                                                      {\"t\":0,\"AntennaId...|\n",
      "|                                                                                                                                                                                                                                                                                                                                                      {\"t\":0,\"AntennaId...|\n",
      "|                                                                                                                                                                                                                                                                                                                                                      {\"t\":0,\"AntennaId...|\n",
      "+--------------------------------------------------------------------------------------------------------------------------------------------------------------------------------------------------------------------------------------------------------------------------------------------------------------------------------------------------------------------------+\n",
      "only showing top 20 rows\n",
      "\n"
     ]
    }
   ],
   "source": [
    "sdf.select(to_json(struct([col(c).alias(c) for c in sdf.columns]))).show()"
   ]
  },
  {
   "cell_type": "code",
   "execution_count": 14,
   "metadata": {},
   "outputs": [
    {
     "data": {
      "text/plain": [
       "1100"
      ]
     },
     "execution_count": 14,
     "metadata": {},
     "output_type": "execute_result"
    }
   ],
   "source": [
    "sdf.selectExpr(\"CAST(key AS STRING) AS key\", \"to_json(struct(*)) AS value\").show()"
   ]
  },
  {
   "cell_type": "code",
   "execution_count": 18,
   "metadata": {},
   "outputs": [],
   "source": [
    "from pyspark.sql.functions import *"
   ]
  },
  {
   "cell_type": "code",
   "execution_count": 8,
   "metadata": {},
   "outputs": [],
   "source": [
    "df = df.where(\"EventCode!=1\")"
   ]
  },
  {
   "cell_type": "code",
   "execution_count": 11,
   "metadata": {},
   "outputs": [],
   "source": [
    "df=df.withColumn('x', df.x/1000).withColumn('y', df.y/1000)"
   ]
  },
  {
   "cell_type": "code",
   "execution_count": 14,
   "metadata": {},
   "outputs": [],
   "source": [
    "df = df.limit(30)"
   ]
  },
  {
   "cell_type": "code",
   "execution_count": 16,
   "metadata": {},
   "outputs": [
    {
     "name": "stdout",
     "output_type": "stream",
     "text": [
      "+---+---------+---------+-------+-----------+-----------+------+-------------------+\n",
      "|  t|AntennaId|EventCode|PhoneId|          x|          y|TileId|          timestamp|\n",
      "+---+---------+---------+-------+-----------+-----------+------+-------------------+\n",
      "|  0|      227|        0|    296|600.9953125|652.7855625|  1147|2020-05-01 21:02:43|\n",
      "|  0|      227|        0|    297|600.9953125|652.7855625|  1147|2020-05-01 21:02:43|\n",
      "|  0|      194|        0|    289|600.3844375|650.1359375|   439|2020-05-01 21:02:43|\n",
      "|  0|      180|        0|    257|600.9015625| 651.774875|   876|2020-05-01 21:02:43|\n",
      "|  0|      161|        0|    259|600.2030625|651.7300625|   869|2020-05-01 21:02:43|\n",
      "|  0|      159|        0|    230|601.1290625|653.1939375|  1256|2020-05-01 21:02:43|\n",
      "|  0|      156|        0|    283|602.1035625|649.7421875|   348|2020-05-01 21:02:43|\n",
      "|  0|      156|        0|    284|602.1035625|649.7421875|   348|2020-05-01 21:02:43|\n",
      "|  0|      142|        0|    268|600.5644375|652.7293125|  1142|2020-05-01 21:02:43|\n",
      "|  0|      133|        0|    241|601.4626875| 648.964125|   125|2020-05-01 21:02:43|\n",
      "|  0|      133|        0|    242|601.4626875| 648.964125|   125|2020-05-01 21:02:43|\n",
      "|  0|      131|        0|    234|601.5149375| 650.068375|   423|2020-05-01 21:02:43|\n",
      "|  0|      101|        0|    273|600.2164375|649.4584375|   248|2020-05-01 21:02:43|\n",
      "|  0|       79|        0|    291| 600.509625|651.4076875|   791|2020-05-01 21:02:43|\n",
      "|  0|       79|        0|    292| 600.509625|651.4076875|   791|2020-05-01 21:02:43|\n",
      "|  0|       77|        0|    270|  600.00875|  650.83325|   624|2020-05-01 21:02:43|\n",
      "|  0|       63|        0|    299| 600.431375|   648.9565|   115|2020-05-01 21:02:43|\n",
      "|  0|       39|        0|    276|601.1365625|649.7429375|   338|2020-05-01 21:02:43|\n",
      "|  0|       23|        0|    245|600.1109375|651.8290625|   895|2020-05-01 21:02:43|\n",
      "|  0|       23|        0|    246|600.1109375|651.8290625|   895|2020-05-01 21:02:43|\n",
      "+---+---------+---------+-------+-----------+-----------+------+-------------------+\n",
      "only showing top 20 rows\n",
      "\n"
     ]
    }
   ],
   "source": [
    "df.show()"
   ]
  },
  {
   "cell_type": "code",
   "execution_count": 21,
   "metadata": {},
   "outputs": [],
   "source": [
    "grouped_df = df.groupBy(\"PhoneId\", window(df.timestamp, \"1 minute\")).mean('x','y')"
   ]
  },
  {
   "cell_type": "code",
   "execution_count": 30,
   "metadata": {},
   "outputs": [
    {
     "name": "stdout",
     "output_type": "stream",
     "text": [
      "+------------------------------------------+\n",
      "|window                                    |\n",
      "+------------------------------------------+\n",
      "|[2020-05-01 21:02:00, 2020-05-01 21:03:00]|\n",
      "|[2020-05-01 21:02:00, 2020-05-01 21:03:00]|\n",
      "|[2020-05-01 21:02:00, 2020-05-01 21:03:00]|\n",
      "|[2020-05-01 21:02:00, 2020-05-01 21:03:00]|\n",
      "|[2020-05-01 21:02:00, 2020-05-01 21:03:00]|\n",
      "|[2020-05-01 21:02:00, 2020-05-01 21:03:00]|\n",
      "|[2020-05-01 21:02:00, 2020-05-01 21:03:00]|\n",
      "|[2020-05-01 21:02:00, 2020-05-01 21:03:00]|\n",
      "|[2020-05-01 21:02:00, 2020-05-01 21:03:00]|\n",
      "|[2020-05-01 21:02:00, 2020-05-01 21:03:00]|\n",
      "|[2020-05-01 21:02:00, 2020-05-01 21:03:00]|\n",
      "|[2020-05-01 21:02:00, 2020-05-01 21:03:00]|\n",
      "|[2020-05-01 21:02:00, 2020-05-01 21:03:00]|\n",
      "|[2020-05-01 21:02:00, 2020-05-01 21:03:00]|\n",
      "|[2020-05-01 21:02:00, 2020-05-01 21:03:00]|\n",
      "|[2020-05-01 21:02:00, 2020-05-01 21:03:00]|\n",
      "|[2020-05-01 21:02:00, 2020-05-01 21:03:00]|\n",
      "|[2020-05-01 21:02:00, 2020-05-01 21:03:00]|\n",
      "|[2020-05-01 21:02:00, 2020-05-01 21:03:00]|\n",
      "|[2020-05-01 21:02:00, 2020-05-01 21:03:00]|\n",
      "+------------------------------------------+\n",
      "only showing top 20 rows\n",
      "\n"
     ]
    }
   ],
   "source": [
    "grouped_df.select('window').show(20, False)"
   ]
  },
  {
   "cell_type": "code",
   "execution_count": 62,
   "metadata": {},
   "outputs": [],
   "source": [
    "df_group = df.groupBy(\"PhoneId\", window(df.timestamp, \"1 minute\",\"1 minute\")).mean('x','y')"
   ]
  },
  {
   "cell_type": "code",
   "execution_count": 63,
   "metadata": {},
   "outputs": [
    {
     "name": "stdout",
     "output_type": "stream",
     "text": [
      "+-------+--------------------+-----------+-----------+\n",
      "|PhoneId|              window|     avg(x)|     avg(y)|\n",
      "+-------+--------------------+-----------+-----------+\n",
      "|    296|[2020-05-01 21:02...|600.9953125|652.7855625|\n",
      "|    297|[2020-05-01 21:02...|600.9953125|652.7855625|\n",
      "+-------+--------------------+-----------+-----------+\n",
      "only showing top 2 rows\n",
      "\n"
     ]
    }
   ],
   "source": [
    "df_group.show(2)"
   ]
  },
  {
   "cell_type": "code",
   "execution_count": 65,
   "metadata": {},
   "outputs": [],
   "source": [
    "df_group = df_group.select(col(\"PhoneId\").alias(\"PhoneId\"), col(\"window\").alias(\"time\"),col(\"avg(x)\").alias(\"x\"),col(\"avg(y)\").alias(\"y\"))"
   ]
  },
  {
   "cell_type": "code",
   "execution_count": 47,
   "metadata": {},
   "outputs": [],
   "source": [
    "send = df_group.selectExpr(\"CAST(window AS STRING) AS key\", \"to_json(struct(*)) AS value\")"
   ]
  },
  {
   "cell_type": "code",
   "execution_count": 115,
   "metadata": {},
   "outputs": [
    {
     "name": "stdout",
     "output_type": "stream",
     "text": [
      "+-------------------+\n",
      "|          timestamp|\n",
      "+-------------------+\n",
      "|2020-05-01 17:03:05|\n",
      "|2020-05-01 17:03:05|\n",
      "|2020-05-01 17:03:05|\n",
      "|2020-05-01 17:03:05|\n",
      "|2020-05-01 17:03:05|\n",
      "|2020-05-01 17:03:05|\n",
      "|2020-05-01 17:03:05|\n",
      "|2020-05-01 17:03:05|\n",
      "|2020-05-01 17:03:05|\n",
      "|2020-05-01 17:03:05|\n",
      "|2020-05-01 17:03:05|\n",
      "|2020-05-01 17:03:05|\n",
      "|2020-05-01 17:03:05|\n",
      "|2020-05-01 17:03:05|\n",
      "|2020-05-01 17:03:05|\n",
      "|2020-05-01 17:03:05|\n",
      "|2020-05-01 17:03:05|\n",
      "|2020-05-01 17:03:05|\n",
      "|2020-05-01 17:03:05|\n",
      "|2020-05-01 17:03:05|\n",
      "+-------------------+\n",
      "only showing top 20 rows\n",
      "\n"
     ]
    }
   ],
   "source": [
    "from pyspark.sql.functions import unix_timestamp, col\n",
    "from pyspark.sql.types import TimestampType\n",
    "df.select(unix_timestamp(df.timestamp, 'MM-dd-yyyy HH:mm:ss').cast(TimestampType()).alias(\"timestamp\"))"
   ]
  },
  {
   "cell_type": "code",
   "execution_count": 96,
   "metadata": {},
   "outputs": [
    {
     "name": "stdout",
     "output_type": "stream",
     "text": [
      "{\"x\": [0.6009952814449999, 0.6009952814449999, 0.6003844263370001, 0.6009015542819999, 0.6002030787020001, 0.6011290550689999, 0.6021035929669999, 0.6021035929669999, 0.600564455101, 0.6014626948470001, 0.6014626948470001, 0.6015149115959999, 0.6002164621539999, 0.6005096143499999, 0.6005096143499999, 0.6000087650870001, 0.600431357885, 0.6011365530939999, 0.6001109597030001, 0.6001109597030001, 0.6007149240709999, 0.5999173147260001], \"y\": [0.6527855718760001, 0.6527855718760001, 0.6501359190670001, 0.651774870814, 0.6517300799999999, 0.6531939500760001, 0.649742183146, 0.649742183146, 0.652729315347, 0.648964107958, 0.648964107958, 0.650068348954, 0.649458409534, 0.6514076580279999, 0.6514076580279999, 0.6508332775929999, 0.648956498195, 0.64974296542, 0.6518290850649999, 0.6518290850649999, 0.64909722544, 0.6487649372450001], \"text\": [\"296\", \"297\", \"289\", \"257\", \"259\", \"230\", \"283\", \"284\", \"268\", \"241\", \"242\", \"234\", \"273\", \"291\", \"292\", \"270\", \"299\", \"276\", \"245\", \"246\", \"253\", \"280\"], \"time\": [\"05-01-2020 15:49:30\", \"05-01-2020 15:49:30\", \"05-01-2020 15:49:30\", \"05-01-2020 15:49:30\", \"05-01-2020 15:49:30\", \"05-01-2020 15:49:30\", \"05-01-2020 15:49:30\", \"05-01-2020 15:49:30\", \"05-01-2020 15:49:30\", \"05-01-2020 15:49:30\", \"05-01-2020 15:49:30\", \"05-01-2020 15:49:30\", \"05-01-2020 15:49:30\", \"05-01-2020 15:49:30\", \"05-01-2020 15:49:30\", \"05-01-2020 15:49:30\", \"05-01-2020 15:49:30\", \"05-01-2020 15:49:30\", \"05-01-2020 15:49:30\", \"05-01-2020 15:49:30\", \"05-01-2020 15:49:30\", \"05-01-2020 15:49:30\"]}\n"
     ]
    },
    {
     "ename": "NameError",
     "evalue": "name 'producer' is not defined",
     "output_type": "error",
     "traceback": [
      "\u001b[0;31m---------------------------------------------------------------------------\u001b[0m",
      "\u001b[0;31mNameError\u001b[0m                                 Traceback (most recent call last)",
      "\u001b[0;32m<ipython-input-96-9ce21ec2840c>\u001b[0m in \u001b[0;36m<module>\u001b[0;34m\u001b[0m\n\u001b[1;32m     17\u001b[0m         \u001b[0mtime\u001b[0m\u001b[0;34m.\u001b[0m\u001b[0msleep\u001b[0m\u001b[0;34m(\u001b[0m\u001b[0;36m3\u001b[0m\u001b[0;34m)\u001b[0m\u001b[0;34m\u001b[0m\u001b[0;34m\u001b[0m\u001b[0m\n\u001b[1;32m     18\u001b[0m \u001b[0;34m\u001b[0m\u001b[0m\n\u001b[0;32m---> 19\u001b[0;31m \u001b[0mgenerate_checkpoint\u001b[0m\u001b[0;34m(\u001b[0m\u001b[0minput_file\u001b[0m\u001b[0;34m)\u001b[0m\u001b[0;34m\u001b[0m\u001b[0;34m\u001b[0m\u001b[0m\n\u001b[0m",
      "\u001b[0;32m<ipython-input-96-9ce21ec2840c>\u001b[0m in \u001b[0;36mgenerate_checkpoint\u001b[0;34m(input_file)\u001b[0m\n\u001b[1;32m     14\u001b[0m         \u001b[0mmessage\u001b[0m \u001b[0;34m=\u001b[0m \u001b[0mjson\u001b[0m\u001b[0;34m.\u001b[0m\u001b[0mdumps\u001b[0m\u001b[0;34m(\u001b[0m\u001b[0mdata\u001b[0m\u001b[0;34m)\u001b[0m\u001b[0;34m\u001b[0m\u001b[0;34m\u001b[0m\u001b[0m\n\u001b[1;32m     15\u001b[0m         \u001b[0mprint\u001b[0m\u001b[0;34m(\u001b[0m\u001b[0mmessage\u001b[0m\u001b[0;34m)\u001b[0m\u001b[0;34m\u001b[0m\u001b[0;34m\u001b[0m\u001b[0m\n\u001b[0;32m---> 16\u001b[0;31m         \u001b[0mproducer\u001b[0m\u001b[0;34m.\u001b[0m\u001b[0mproduce\u001b[0m\u001b[0;34m(\u001b[0m\u001b[0mmessage\u001b[0m\u001b[0;34m.\u001b[0m\u001b[0mencode\u001b[0m\u001b[0;34m(\u001b[0m\u001b[0;34m'ascii'\u001b[0m\u001b[0;34m)\u001b[0m\u001b[0;34m)\u001b[0m\u001b[0;34m\u001b[0m\u001b[0;34m\u001b[0m\u001b[0m\n\u001b[0m\u001b[1;32m     17\u001b[0m         \u001b[0mtime\u001b[0m\u001b[0;34m.\u001b[0m\u001b[0msleep\u001b[0m\u001b[0;34m(\u001b[0m\u001b[0;36m3\u001b[0m\u001b[0;34m)\u001b[0m\u001b[0;34m\u001b[0m\u001b[0;34m\u001b[0m\u001b[0m\n\u001b[1;32m     18\u001b[0m \u001b[0;34m\u001b[0m\u001b[0m\n",
      "\u001b[0;31mNameError\u001b[0m: name 'producer' is not defined"
     ]
    }
   ],
   "source": [
    "def generate_checkpoint(input_file):\n",
    "    for i in range(0,input_file.t.max()):\n",
    "        input_file_topush = input_file[input_file.t==i]\n",
    "        data = {'x' : [] , 'y' : [] , 'text' : [],'time':[]}\n",
    "        \n",
    "        j=0\n",
    "        while j < len(input_file_topush):\n",
    "            data['time'].append(input_file['time'][j])\n",
    "            data['text'].append(input_file['PhoneId'][j])\n",
    "            data['x'].append(input_file['x'][j]/1000)\n",
    "            data['y'].append(input_file['y'][j]/1000)\n",
    "            j+=1\n",
    "            \n",
    "        message = json.dumps(data)\n",
    "        print(message)\n",
    "        producer.produce(message.encode('ascii'))\n",
    "        time.sleep(3)\n",
    "        \n",
    "generate_checkpoint(input_file)"
   ]
  },
  {
   "cell_type": "code",
   "execution_count": 94,
   "metadata": {},
   "outputs": [
    {
     "ename": "NameError",
     "evalue": "name 'imput_file' is not defined",
     "output_type": "error",
     "traceback": [
      "\u001b[0;31m---------------------------------------------------------------------------\u001b[0m",
      "\u001b[0;31mNameError\u001b[0m                                 Traceback (most recent call last)",
      "\u001b[0;32m<ipython-input-94-b5971ec0aa2c>\u001b[0m in \u001b[0;36m<module>\u001b[0;34m\u001b[0m\n\u001b[0;32m----> 1\u001b[0;31m \u001b[0mimput_file\u001b[0m\u001b[0;34m\u001b[0m\u001b[0;34m\u001b[0m\u001b[0m\n\u001b[0m",
      "\u001b[0;31mNameError\u001b[0m: name 'imput_file' is not defined"
     ]
    }
   ],
   "source": [
    "iput_file"
   ]
  },
  {
   "cell_type": "code",
   "execution_count": 93,
   "metadata": {},
   "outputs": [
    {
     "ename": "KeyError",
     "evalue": "'time'",
     "output_type": "error",
     "traceback": [
      "\u001b[0;31m---------------------------------------------------------------------------\u001b[0m",
      "\u001b[0;31mKeyError\u001b[0m                                  Traceback (most recent call last)",
      "\u001b[0;32m~/miniconda3/envs/pyspark/lib/python3.7/site-packages/pandas/core/indexes/base.py\u001b[0m in \u001b[0;36mget_loc\u001b[0;34m(self, key, method, tolerance)\u001b[0m\n\u001b[1;32m   2645\u001b[0m             \u001b[0;32mtry\u001b[0m\u001b[0;34m:\u001b[0m\u001b[0;34m\u001b[0m\u001b[0;34m\u001b[0m\u001b[0m\n\u001b[0;32m-> 2646\u001b[0;31m                 \u001b[0;32mreturn\u001b[0m \u001b[0mself\u001b[0m\u001b[0;34m.\u001b[0m\u001b[0m_engine\u001b[0m\u001b[0;34m.\u001b[0m\u001b[0mget_loc\u001b[0m\u001b[0;34m(\u001b[0m\u001b[0mkey\u001b[0m\u001b[0;34m)\u001b[0m\u001b[0;34m\u001b[0m\u001b[0;34m\u001b[0m\u001b[0m\n\u001b[0m\u001b[1;32m   2647\u001b[0m             \u001b[0;32mexcept\u001b[0m \u001b[0mKeyError\u001b[0m\u001b[0;34m:\u001b[0m\u001b[0;34m\u001b[0m\u001b[0;34m\u001b[0m\u001b[0m\n",
      "\u001b[0;32mpandas/_libs/index.pyx\u001b[0m in \u001b[0;36mpandas._libs.index.IndexEngine.get_loc\u001b[0;34m()\u001b[0m\n",
      "\u001b[0;32mpandas/_libs/index.pyx\u001b[0m in \u001b[0;36mpandas._libs.index.IndexEngine.get_loc\u001b[0;34m()\u001b[0m\n",
      "\u001b[0;32mpandas/_libs/hashtable_class_helper.pxi\u001b[0m in \u001b[0;36mpandas._libs.hashtable.PyObjectHashTable.get_item\u001b[0;34m()\u001b[0m\n",
      "\u001b[0;32mpandas/_libs/hashtable_class_helper.pxi\u001b[0m in \u001b[0;36mpandas._libs.hashtable.PyObjectHashTable.get_item\u001b[0;34m()\u001b[0m\n",
      "\u001b[0;31mKeyError\u001b[0m: 'time'",
      "\nDuring handling of the above exception, another exception occurred:\n",
      "\u001b[0;31mKeyError\u001b[0m                                  Traceback (most recent call last)",
      "\u001b[0;32m<ipython-input-93-4719a68db1d3>\u001b[0m in \u001b[0;36m<module>\u001b[0;34m\u001b[0m\n\u001b[1;32m      5\u001b[0m     \u001b[0mj\u001b[0m\u001b[0;34m=\u001b[0m\u001b[0;36m0\u001b[0m\u001b[0;34m\u001b[0m\u001b[0;34m\u001b[0m\u001b[0m\n\u001b[1;32m      6\u001b[0m     \u001b[0;32mwhile\u001b[0m \u001b[0mj\u001b[0m \u001b[0;34m<\u001b[0m \u001b[0mlen\u001b[0m\u001b[0;34m(\u001b[0m\u001b[0minput_file_topush\u001b[0m\u001b[0;34m)\u001b[0m\u001b[0;34m:\u001b[0m\u001b[0;34m\u001b[0m\u001b[0;34m\u001b[0m\u001b[0m\n\u001b[0;32m----> 7\u001b[0;31m         \u001b[0mdata\u001b[0m\u001b[0;34m[\u001b[0m\u001b[0;34m'time'\u001b[0m\u001b[0;34m]\u001b[0m\u001b[0;34m.\u001b[0m\u001b[0mappend\u001b[0m\u001b[0;34m(\u001b[0m\u001b[0minput_file\u001b[0m\u001b[0;34m[\u001b[0m\u001b[0;34m'time'\u001b[0m\u001b[0;34m]\u001b[0m\u001b[0;34m[\u001b[0m\u001b[0mj\u001b[0m\u001b[0;34m]\u001b[0m\u001b[0;34m)\u001b[0m\u001b[0;34m\u001b[0m\u001b[0;34m\u001b[0m\u001b[0m\n\u001b[0m\u001b[1;32m      8\u001b[0m         \u001b[0mdata\u001b[0m\u001b[0;34m[\u001b[0m\u001b[0;34m'text'\u001b[0m\u001b[0;34m]\u001b[0m\u001b[0;34m.\u001b[0m\u001b[0mappend\u001b[0m\u001b[0;34m(\u001b[0m\u001b[0minput_file\u001b[0m\u001b[0;34m[\u001b[0m\u001b[0;34m'PhoneId'\u001b[0m\u001b[0;34m]\u001b[0m\u001b[0;34m[\u001b[0m\u001b[0mj\u001b[0m\u001b[0;34m]\u001b[0m\u001b[0;34m)\u001b[0m\u001b[0;34m\u001b[0m\u001b[0;34m\u001b[0m\u001b[0m\n\u001b[1;32m      9\u001b[0m         \u001b[0mdata\u001b[0m\u001b[0;34m[\u001b[0m\u001b[0;34m'x'\u001b[0m\u001b[0;34m]\u001b[0m\u001b[0;34m.\u001b[0m\u001b[0mappend\u001b[0m\u001b[0;34m(\u001b[0m\u001b[0minput_file\u001b[0m\u001b[0;34m[\u001b[0m\u001b[0;34m'x'\u001b[0m\u001b[0;34m]\u001b[0m\u001b[0;34m[\u001b[0m\u001b[0mj\u001b[0m\u001b[0;34m]\u001b[0m\u001b[0;34m/\u001b[0m\u001b[0;36m1000\u001b[0m\u001b[0;34m)\u001b[0m\u001b[0;34m\u001b[0m\u001b[0;34m\u001b[0m\u001b[0m\n",
      "\u001b[0;32m~/miniconda3/envs/pyspark/lib/python3.7/site-packages/pandas/core/frame.py\u001b[0m in \u001b[0;36m__getitem__\u001b[0;34m(self, key)\u001b[0m\n\u001b[1;32m   2798\u001b[0m             \u001b[0;32mif\u001b[0m \u001b[0mself\u001b[0m\u001b[0;34m.\u001b[0m\u001b[0mcolumns\u001b[0m\u001b[0;34m.\u001b[0m\u001b[0mnlevels\u001b[0m \u001b[0;34m>\u001b[0m \u001b[0;36m1\u001b[0m\u001b[0;34m:\u001b[0m\u001b[0;34m\u001b[0m\u001b[0;34m\u001b[0m\u001b[0m\n\u001b[1;32m   2799\u001b[0m                 \u001b[0;32mreturn\u001b[0m \u001b[0mself\u001b[0m\u001b[0;34m.\u001b[0m\u001b[0m_getitem_multilevel\u001b[0m\u001b[0;34m(\u001b[0m\u001b[0mkey\u001b[0m\u001b[0;34m)\u001b[0m\u001b[0;34m\u001b[0m\u001b[0;34m\u001b[0m\u001b[0m\n\u001b[0;32m-> 2800\u001b[0;31m             \u001b[0mindexer\u001b[0m \u001b[0;34m=\u001b[0m \u001b[0mself\u001b[0m\u001b[0;34m.\u001b[0m\u001b[0mcolumns\u001b[0m\u001b[0;34m.\u001b[0m\u001b[0mget_loc\u001b[0m\u001b[0;34m(\u001b[0m\u001b[0mkey\u001b[0m\u001b[0;34m)\u001b[0m\u001b[0;34m\u001b[0m\u001b[0;34m\u001b[0m\u001b[0m\n\u001b[0m\u001b[1;32m   2801\u001b[0m             \u001b[0;32mif\u001b[0m \u001b[0mis_integer\u001b[0m\u001b[0;34m(\u001b[0m\u001b[0mindexer\u001b[0m\u001b[0;34m)\u001b[0m\u001b[0;34m:\u001b[0m\u001b[0;34m\u001b[0m\u001b[0;34m\u001b[0m\u001b[0m\n\u001b[1;32m   2802\u001b[0m                 \u001b[0mindexer\u001b[0m \u001b[0;34m=\u001b[0m \u001b[0;34m[\u001b[0m\u001b[0mindexer\u001b[0m\u001b[0;34m]\u001b[0m\u001b[0;34m\u001b[0m\u001b[0;34m\u001b[0m\u001b[0m\n",
      "\u001b[0;32m~/miniconda3/envs/pyspark/lib/python3.7/site-packages/pandas/core/indexes/base.py\u001b[0m in \u001b[0;36mget_loc\u001b[0;34m(self, key, method, tolerance)\u001b[0m\n\u001b[1;32m   2646\u001b[0m                 \u001b[0;32mreturn\u001b[0m \u001b[0mself\u001b[0m\u001b[0;34m.\u001b[0m\u001b[0m_engine\u001b[0m\u001b[0;34m.\u001b[0m\u001b[0mget_loc\u001b[0m\u001b[0;34m(\u001b[0m\u001b[0mkey\u001b[0m\u001b[0;34m)\u001b[0m\u001b[0;34m\u001b[0m\u001b[0;34m\u001b[0m\u001b[0m\n\u001b[1;32m   2647\u001b[0m             \u001b[0;32mexcept\u001b[0m \u001b[0mKeyError\u001b[0m\u001b[0;34m:\u001b[0m\u001b[0;34m\u001b[0m\u001b[0;34m\u001b[0m\u001b[0m\n\u001b[0;32m-> 2648\u001b[0;31m                 \u001b[0;32mreturn\u001b[0m \u001b[0mself\u001b[0m\u001b[0;34m.\u001b[0m\u001b[0m_engine\u001b[0m\u001b[0;34m.\u001b[0m\u001b[0mget_loc\u001b[0m\u001b[0;34m(\u001b[0m\u001b[0mself\u001b[0m\u001b[0;34m.\u001b[0m\u001b[0m_maybe_cast_indexer\u001b[0m\u001b[0;34m(\u001b[0m\u001b[0mkey\u001b[0m\u001b[0;34m)\u001b[0m\u001b[0;34m)\u001b[0m\u001b[0;34m\u001b[0m\u001b[0;34m\u001b[0m\u001b[0m\n\u001b[0m\u001b[1;32m   2649\u001b[0m         \u001b[0mindexer\u001b[0m \u001b[0;34m=\u001b[0m \u001b[0mself\u001b[0m\u001b[0;34m.\u001b[0m\u001b[0mget_indexer\u001b[0m\u001b[0;34m(\u001b[0m\u001b[0;34m[\u001b[0m\u001b[0mkey\u001b[0m\u001b[0;34m]\u001b[0m\u001b[0;34m,\u001b[0m \u001b[0mmethod\u001b[0m\u001b[0;34m=\u001b[0m\u001b[0mmethod\u001b[0m\u001b[0;34m,\u001b[0m \u001b[0mtolerance\u001b[0m\u001b[0;34m=\u001b[0m\u001b[0mtolerance\u001b[0m\u001b[0;34m)\u001b[0m\u001b[0;34m\u001b[0m\u001b[0;34m\u001b[0m\u001b[0m\n\u001b[1;32m   2650\u001b[0m         \u001b[0;32mif\u001b[0m \u001b[0mindexer\u001b[0m\u001b[0;34m.\u001b[0m\u001b[0mndim\u001b[0m \u001b[0;34m>\u001b[0m \u001b[0;36m1\u001b[0m \u001b[0;32mor\u001b[0m \u001b[0mindexer\u001b[0m\u001b[0;34m.\u001b[0m\u001b[0msize\u001b[0m \u001b[0;34m>\u001b[0m \u001b[0;36m1\u001b[0m\u001b[0;34m:\u001b[0m\u001b[0;34m\u001b[0m\u001b[0;34m\u001b[0m\u001b[0m\n",
      "\u001b[0;32mpandas/_libs/index.pyx\u001b[0m in \u001b[0;36mpandas._libs.index.IndexEngine.get_loc\u001b[0;34m()\u001b[0m\n",
      "\u001b[0;32mpandas/_libs/index.pyx\u001b[0m in \u001b[0;36mpandas._libs.index.IndexEngine.get_loc\u001b[0;34m()\u001b[0m\n",
      "\u001b[0;32mpandas/_libs/hashtable_class_helper.pxi\u001b[0m in \u001b[0;36mpandas._libs.hashtable.PyObjectHashTable.get_item\u001b[0;34m()\u001b[0m\n",
      "\u001b[0;32mpandas/_libs/hashtable_class_helper.pxi\u001b[0m in \u001b[0;36mpandas._libs.hashtable.PyObjectHashTable.get_item\u001b[0;34m()\u001b[0m\n",
      "\u001b[0;31mKeyError\u001b[0m: 'time'"
     ]
    }
   ],
   "source": [
    "for i in range(0,input_file.t.max()):\n",
    "    input_file_topush = input_file[input_file.t==i]\n",
    "    data = {'x' : [] , 'y' : [] , 'text' : [],'time':[]}\n",
    "\n",
    "    j=0\n",
    "    while j < len(input_file_topush):\n",
    "        data['time'].append(input_file['time'][j])\n",
    "        data['text'].append(input_file['PhoneId'][j])\n",
    "        data['x'].append(input_file['x'][j]/1000)\n",
    "        data['y'].append(input_file['y'][j]/1000)\n",
    "        j+=1"
   ]
  },
  {
   "cell_type": "code",
   "execution_count": null,
   "metadata": {},
   "outputs": [
    {
     "name": "stdout",
     "output_type": "stream",
     "text": [
      "[{\"t\":0,\"PhoneId\":\"296\",\"x\":600.995281445,\"y\":652.785571876},{\"t\":0,\"PhoneId\":\"297\",\"x\":600.995281445,\"y\":652.785571876},{\"t\":0,\"PhoneId\":\"289\",\"x\":600.384426337,\"y\":650.135919067},{\"t\":0,\"PhoneId\":\"257\",\"x\":600.901554282,\"y\":651.774870814},{\"t\":0,\"PhoneId\":\"259\",\"x\":600.203078702,\"y\":651.73008},{\"t\":0,\"PhoneId\":\"230\",\"x\":601.129055069,\"y\":653.193950076},{\"t\":0,\"PhoneId\":\"283\",\"x\":602.103592967,\"y\":649.742183146},{\"t\":0,\"PhoneId\":\"284\",\"x\":602.103592967,\"y\":649.742183146},{\"t\":0,\"PhoneId\":\"268\",\"x\":600.564455101,\"y\":652.729315347},{\"t\":0,\"PhoneId\":\"241\",\"x\":601.462694847,\"y\":648.964107958},{\"t\":0,\"PhoneId\":\"242\",\"x\":601.462694847,\"y\":648.964107958},{\"t\":0,\"PhoneId\":\"234\",\"x\":601.514911596,\"y\":650.068348954},{\"t\":0,\"PhoneId\":\"273\",\"x\":600.216462154,\"y\":649.458409534},{\"t\":0,\"PhoneId\":\"291\",\"x\":600.50961435,\"y\":651.407658028},{\"t\":0,\"PhoneId\":\"292\",\"x\":600.50961435,\"y\":651.407658028},{\"t\":0,\"PhoneId\":\"270\",\"x\":600.008765087,\"y\":650.833277593},{\"t\":0,\"PhoneId\":\"299\",\"x\":600.431357885,\"y\":648.956498195},{\"t\":0,\"PhoneId\":\"276\",\"x\":601.136553094,\"y\":649.74296542},{\"t\":0,\"PhoneId\":\"245\",\"x\":600.110959703,\"y\":651.829085065},{\"t\":0,\"PhoneId\":\"246\",\"x\":600.110959703,\"y\":651.829085065},{\"t\":0,\"PhoneId\":\"253\",\"x\":600.714924071,\"y\":649.09722544},{\"t\":0,\"PhoneId\":\"280\",\"x\":599.917314726,\"y\":648.764937245}]\n",
      "[{\"t\":1,\"PhoneId\":\"297\",\"x\":600.855708095,\"y\":652.890405888},{\"t\":1,\"PhoneId\":\"296\",\"x\":600.855708095,\"y\":652.890405888},{\"t\":1,\"PhoneId\":\"273\",\"x\":599.767764248,\"y\":650.111852675},{\"t\":1,\"PhoneId\":\"289\",\"x\":600.384426337,\"y\":650.135919067},{\"t\":1,\"PhoneId\":\"253\",\"x\":600.598953909,\"y\":649.243843553},{\"t\":1,\"PhoneId\":\"257\",\"x\":600.780251541,\"y\":651.912216713},{\"t\":1,\"PhoneId\":\"259\",\"x\":600.078941324,\"y\":651.854245087},{\"t\":1,\"PhoneId\":\"230\",\"x\":601.129055069,\"y\":653.193950076},{\"t\":1,\"PhoneId\":\"284\",\"x\":601.958740413,\"y\":649.895012895},{\"t\":1,\"PhoneId\":\"283\",\"x\":601.958740413,\"y\":649.895012895},{\"t\":1,\"PhoneId\":\"268\",\"x\":600.564455101,\"y\":652.729315347},{\"t\":1,\"PhoneId\":\"242\",\"x\":600.736867391,\"y\":649.68933519},{\"t\":1,\"PhoneId\":\"241\",\"x\":600.736867391,\"y\":649.68933519},{\"t\":1,\"PhoneId\":\"234\",\"x\":601.514911596,\"y\":650.068348954},{\"t\":1,\"PhoneId\":\"273\",\"x\":599.767764248,\"y\":650.111852675},{\"t\":1,\"PhoneId\":\"257\",\"x\":600.780251541,\"y\":651.912216713},{\"t\":1,\"PhoneId\":\"292\",\"x\":600.364633387,\"y\":651.523163791},{\"t\":1,\"PhoneId\":\"291\",\"x\":600.364633387,\"y\":651.523163791},{\"t\":1,\"PhoneId\":\"270\",\"x\":600.008765087,\"y\":650.833277593},{\"t\":1,\"PhoneId\":\"299\",\"x\":600.319176858,\"y\":649.061334547},{\"t\":1,\"PhoneId\":\"242\",\"x\":600.736867391,\"y\":649.68933519},{\"t\":1,\"PhoneId\":\"241\",\"x\":600.736867391,\"y\":649.68933519},{\"t\":1,\"PhoneId\":\"299\",\"x\":600.319176858,\"y\":649.061334547},{\"t\":1,\"PhoneId\":\"284\",\"x\":601.958740413,\"y\":649.895012895},{\"t\":1,\"PhoneId\":\"283\",\"x\":601.958740413,\"y\":649.895012895},{\"t\":1,\"PhoneId\":\"276\",\"x\":601.026924381,\"y\":649.883108971},{\"t\":1,\"PhoneId\":\"297\",\"x\":600.855708095,\"y\":652.890405888},{\"t\":1,\"PhoneId\":\"296\",\"x\":600.855708095,\"y\":652.890405888},{\"t\":1,\"PhoneId\":\"259\",\"x\":600.078941324,\"y\":651.854245087},{\"t\":1,\"PhoneId\":\"246\",\"x\":599.987832676,\"y\":651.933067514},{\"t\":1,\"PhoneId\":\"245\",\"x\":599.987832676,\"y\":651.933067514},{\"t\":1,\"PhoneId\":\"253\",\"x\":600.598953909,\"y\":649.243843553},{\"t\":1,\"PhoneId\":\"276\",\"x\":601.026924381,\"y\":649.883108971},{\"t\":1,\"PhoneId\":\"280\",\"x\":599.771940531,\"y\":648.894482459}]\n",
      "[{\"t\":2,\"PhoneId\":\"273\",\"x\":599.767764248,\"y\":650.111852675},{\"t\":2,\"PhoneId\":\"289\",\"x\":600.384426337,\"y\":650.135919067},{\"t\":2,\"PhoneId\":\"242\",\"x\":600.00858677,\"y\":650.412098893},{\"t\":2,\"PhoneId\":\"241\",\"x\":600.00858677,\"y\":650.412098893},{\"t\":2,\"PhoneId\":\"253\",\"x\":600.464137508,\"y\":649.373344469},{\"t\":2,\"PhoneId\":\"257\",\"x\":600.65807369,\"y\":652.048784732},{\"t\":2,\"PhoneId\":\"284\",\"x\":601.786220382,\"y\":650.015744138},{\"t\":2,\"PhoneId\":\"283\",\"x\":601.786220382,\"y\":650.015744138},{\"t\":2,\"PhoneId\":\"292\",\"x\":600.240900504,\"y\":651.661190001},{\"t\":2,\"PhoneId\":\"291\",\"x\":600.240900504,\"y\":651.661190001},{\"t\":2,\"PhoneId\":\"268\",\"x\":600.249086878,\"y\":651.734235542},{\"t\":2,\"PhoneId\":\"297\",\"x\":600.752336562,\"y\":653.031065819},{\"t\":2,\"PhoneId\":\"296\",\"x\":600.752336562,\"y\":653.031065819},{\"t\":2,\"PhoneId\":\"230\",\"x\":601.129055069,\"y\":653.193950076},{\"t\":2,\"PhoneId\":\"268\",\"x\":600.249086878,\"y\":651.734235542},{\"t\":2,\"PhoneId\":\"234\",\"x\":601.514911596,\"y\":650.068348954},{\"t\":2,\"PhoneId\":\"299\",\"x\":600.200989607,\"y\":649.15934994},{\"t\":2,\"PhoneId\":\"253\",\"x\":600.464137508,\"y\":649.373344469},{\"t\":2,\"PhoneId\":\"257\",\"x\":600.65807369,\"y\":652.048784732},{\"t\":2,\"PhoneId\":\"292\",\"x\":600.240900504,\"y\":651.661190001},{\"t\":2,\"PhoneId\":\"291\",\"x\":600.240900504,\"y\":651.661190001},{\"t\":2,\"PhoneId\":\"270\",\"x\":600.843233523,\"y\":651.348733208},{\"t\":2,\"PhoneId\":\"299\",\"x\":600.200989607,\"y\":649.15934994},{\"t\":2,\"PhoneId\":\"242\",\"x\":600.00858677,\"y\":650.412098893},{\"t\":2,\"PhoneId\":\"241\",\"x\":600.00858677,\"y\":650.412098893},{\"t\":2,\"PhoneId\":\"284\",\"x\":601.786220382,\"y\":650.015744138},{\"t\":2,\"PhoneId\":\"283\",\"x\":601.786220382,\"y\":650.015744138},{\"t\":2,\"PhoneId\":\"270\",\"x\":600.843233523,\"y\":651.348733208},{\"t\":2,\"PhoneId\":\"297\",\"x\":600.752336562,\"y\":653.031065819},{\"t\":2,\"PhoneId\":\"296\",\"x\":600.752336562,\"y\":653.031065819},{\"t\":2,\"PhoneId\":\"259\",\"x\":600.078941324,\"y\":651.854245087},{\"t\":2,\"PhoneId\":\"246\",\"x\":599.987832676,\"y\":651.933067514},{\"t\":2,\"PhoneId\":\"245\",\"x\":599.987832676,\"y\":651.933067514},{\"t\":2,\"PhoneId\":\"276\",\"x\":601.026924381,\"y\":649.883108971},{\"t\":2,\"PhoneId\":\"280\",\"x\":599.771940531,\"y\":648.894482459}]\n",
      "[{\"t\":3,\"PhoneId\":\"273\",\"x\":600.292794358,\"y\":650.705705462},{\"t\":3,\"PhoneId\":\"289\",\"x\":600.384426337,\"y\":650.135919067},{\"t\":3,\"PhoneId\":\"242\",\"x\":600.00858677,\"y\":650.412098893},{\"t\":3,\"PhoneId\":\"241\",\"x\":600.00858677,\"y\":650.412098893},{\"t\":3,\"PhoneId\":\"257\",\"x\":600.520550439,\"y\":652.169886369},{\"t\":3,\"PhoneId\":\"268\",\"x\":601.071987545,\"y\":651.091993044},{\"t\":3,\"PhoneId\":\"284\",\"x\":601.625469723,\"y\":650.151753035},{\"t\":3,\"PhoneId\":\"283\",\"x\":601.625469723,\"y\":650.151753035},{\"t\":3,\"PhoneId\":\"292\",\"x\":600.096094826,\"y\":651.776915437},{\"t\":3,\"PhoneId\":\"291\",\"x\":600.096094826,\"y\":651.776915437},{\"t\":3,\"PhoneId\":\"268\",\"x\":601.071987545,\"y\":651.091993044},{\"t\":3,\"PhoneId\":\"297\",\"x\":600.632185614,\"y\":653.157693777},{\"t\":3,\"PhoneId\":\"296\",\"x\":600.632185614,\"y\":653.157693777},{\"t\":3,\"PhoneId\":\"230\",\"x\":601.129055069,\"y\":653.193950076},{\"t\":3,\"PhoneId\":\"234\",\"x\":601.514911596,\"y\":650.068348954},{\"t\":3,\"PhoneId\":\"273\",\"x\":600.292794358,\"y\":650.705705462},{\"t\":3,\"PhoneId\":\"299\",\"x\":600.098666177,\"y\":649.273827706},{\"t\":3,\"PhoneId\":\"299\",\"x\":600.098666177,\"y\":649.273827706},{\"t\":3,\"PhoneId\":\"253\",\"x\":600.334801717,\"y\":649.508319291},{\"t\":3,\"PhoneId\":\"253\",\"x\":600.334801717,\"y\":649.508319291},{\"t\":3,\"PhoneId\":\"270\",\"x\":600.657792821,\"y\":650.385590535},{\"t\":3,\"PhoneId\":\"280\",\"x\":599.966130508,\"y\":648.880134212},{\"t\":3,\"PhoneId\":\"284\",\"x\":601.625469723,\"y\":650.151753035},{\"t\":3,\"PhoneId\":\"283\",\"x\":601.625469723,\"y\":650.151753035},{\"t\":3,\"PhoneId\":\"297\",\"x\":600.632185614,\"y\":653.157693777},{\"t\":3,\"PhoneId\":\"296\",\"x\":600.632185614,\"y\":653.157693777},{\"t\":3,\"PhoneId\":\"270\",\"x\":600.657792821,\"y\":650.385590535},{\"t\":3,\"PhoneId\":\"259\",\"x\":600.078941324,\"y\":651.854245087},{\"t\":3,\"PhoneId\":\"246\",\"x\":599.987832676,\"y\":651.933067514},{\"t\":3,\"PhoneId\":\"245\",\"x\":599.987832676,\"y\":651.933067514},{\"t\":3,\"PhoneId\":\"276\",\"x\":601.026924381,\"y\":649.883108971},{\"t\":3,\"PhoneId\":\"280\",\"x\":599.966130508,\"y\":648.880134212}]\n",
      "[{\"t\":4,\"PhoneId\":\"242\",\"x\":600.131509695,\"y\":651.430759772},{\"t\":4,\"PhoneId\":\"241\",\"x\":600.131509695,\"y\":651.430759772},{\"t\":4,\"PhoneId\":\"289\",\"x\":600.384426337,\"y\":650.135919067},{\"t\":4,\"PhoneId\":\"242\",\"x\":600.131509695,\"y\":651.430759772},{\"t\":4,\"PhoneId\":\"241\",\"x\":600.131509695,\"y\":651.430759772},{\"t\":4,\"PhoneId\":\"257\",\"x\":600.377137792,\"y\":652.283952418},{\"t\":4,\"PhoneId\":\"230\",\"x\":601.162302202,\"y\":652.195845655},{\"t\":4,\"PhoneId\":\"257\",\"x\":600.377137792,\"y\":652.283952418},{\"t\":4,\"PhoneId\":\"268\",\"x\":601.159144747,\"y\":650.051779337},{\"t\":4,\"PhoneId\":\"284\",\"x\":601.474697887,\"y\":650.298746395},{\"t\":4,\"PhoneId\":\"283\",\"x\":601.474697887,\"y\":650.298746395},{\"t\":4,\"PhoneId\":\"292\",\"x\":599.952166551,\"y\":651.893730302},{\"t\":4,\"PhoneId\":\"291\",\"x\":599.952166551,\"y\":651.893730302},{\"t\":4,\"PhoneId\":\"230\",\"x\":601.162302202,\"y\":652.195845655},{\"t\":4,\"PhoneId\":\"253\",\"x\":600.21683407,\"y\":649.653335096},{\"t\":4,\"PhoneId\":\"234\",\"x\":601.514911596,\"y\":650.068348954},{\"t\":4,\"PhoneId\":\"268\",\"x\":601.159144747,\"y\":650.051779337},{\"t\":4,\"PhoneId\":\"273\",\"x\":600.19574499,\"y\":649.919004013},{\"t\":4,\"PhoneId\":\"273\",\"x\":600.19574499,\"y\":649.919004013},{\"t\":4,\"PhoneId\":\"299\",\"x\":599.999643143,\"y\":649.391171996},{\"t\":4,\"PhoneId\":\"253\",\"x\":600.21683407,\"y\":649.653335096},{\"t\":4,\"PhoneId\":\"299\",\"x\":599.999643143,\"y\":649.391171996},{\"t\":4,\"PhoneId\":\"280\",\"x\":600.159609128,\"y\":648.85818785},{\"t\":4,\"PhoneId\":\"270\",\"x\":601.457314435,\"y\":649.817438046},{\"t\":4,\"PhoneId\":\"280\",\"x\":600.159609128,\"y\":648.85818785},{\"t\":4,\"PhoneId\":\"284\",\"x\":601.474697887,\"y\":650.298746395},{\"t\":4,\"PhoneId\":\"283\",\"x\":601.474697887,\"y\":650.298746395},{\"t\":4,\"PhoneId\":\"270\",\"x\":601.457314435,\"y\":649.817438046},{\"t\":4,\"PhoneId\":\"297\",\"x\":600.493007166,\"y\":653.263051499},{\"t\":4,\"PhoneId\":\"296\",\"x\":600.493007166,\"y\":653.263051499},{\"t\":4,\"PhoneId\":\"292\",\"x\":599.952166551,\"y\":651.893730302},{\"t\":4,\"PhoneId\":\"291\",\"x\":599.952166551,\"y\":651.893730302},{\"t\":4,\"PhoneId\":\"259\",\"x\":600.078941324,\"y\":651.854245087},{\"t\":4,\"PhoneId\":\"246\",\"x\":599.987832676,\"y\":651.933067514},{\"t\":4,\"PhoneId\":\"245\",\"x\":599.987832676,\"y\":651.933067514},{\"t\":4,\"PhoneId\":\"276\",\"x\":601.026924381,\"y\":649.883108971}]\n"
     ]
    },
    {
     "name": "stdout",
     "output_type": "stream",
     "text": [
      "[{\"t\":5,\"PhoneId\":\"242\",\"x\":601.15316618,\"y\":651.525617877},{\"t\":5,\"PhoneId\":\"241\",\"x\":601.15316618,\"y\":651.525617877},{\"t\":5,\"PhoneId\":\"230\",\"x\":600.660717662,\"y\":651.332288618},{\"t\":5,\"PhoneId\":\"289\",\"x\":600.384426337,\"y\":650.135919067},{\"t\":5,\"PhoneId\":\"257\",\"x\":600.242429502,\"y\":652.408177728},{\"t\":5,\"PhoneId\":\"230\",\"x\":600.660717662,\"y\":651.332288618},{\"t\":5,\"PhoneId\":\"284\",\"x\":601.326463487,\"y\":650.448298249},{\"t\":5,\"PhoneId\":\"283\",\"x\":601.326463487,\"y\":650.448298249},{\"t\":5,\"PhoneId\":\"253\",\"x\":600.091015093,\"y\":649.791594036},{\"t\":5,\"PhoneId\":\"297\",\"x\":600.373529431,\"y\":653.390314852},{\"t\":5,\"PhoneId\":\"296\",\"x\":600.373529431,\"y\":653.390314852},{\"t\":5,\"PhoneId\":\"234\",\"x\":601.514911596,\"y\":650.068348954},{\"t\":5,\"PhoneId\":\"257\",\"x\":600.242429502,\"y\":652.408177728},{\"t\":5,\"PhoneId\":\"268\",\"x\":601.159144747,\"y\":650.051779337},{\"t\":5,\"PhoneId\":\"242\",\"x\":601.15316618,\"y\":651.525617877},{\"t\":5,\"PhoneId\":\"241\",\"x\":601.15316618,\"y\":651.525617877},{\"t\":5,\"PhoneId\":\"273\",\"x\":600.19574499,\"y\":649.919004013},{\"t\":5,\"PhoneId\":\"253\",\"x\":600.091015093,\"y\":649.791594036},{\"t\":5,\"PhoneId\":\"299\",\"x\":599.903437672,\"y\":649.510837157},{\"t\":5,\"PhoneId\":\"280\",\"x\":600.255040228,\"y\":649.02791859},{\"t\":5,\"PhoneId\":\"284\",\"x\":601.326463487,\"y\":650.448298249},{\"t\":5,\"PhoneId\":\"283\",\"x\":601.326463487,\"y\":650.448298249},{\"t\":5,\"PhoneId\":\"270\",\"x\":601.457314435,\"y\":649.817438046},{\"t\":5,\"PhoneId\":\"297\",\"x\":600.373529431,\"y\":653.390314852},{\"t\":5,\"PhoneId\":\"296\",\"x\":600.373529431,\"y\":653.390314852},{\"t\":5,\"PhoneId\":\"292\",\"x\":599.952166551,\"y\":651.893730302},{\"t\":5,\"PhoneId\":\"291\",\"x\":599.952166551,\"y\":651.893730302},{\"t\":5,\"PhoneId\":\"259\",\"x\":600.078941324,\"y\":651.854245087},{\"t\":5,\"PhoneId\":\"246\",\"x\":599.987832676,\"y\":651.933067514},{\"t\":5,\"PhoneId\":\"245\",\"x\":599.987832676,\"y\":651.933067514},{\"t\":5,\"PhoneId\":\"276\",\"x\":601.026924381,\"y\":649.883108971}]\n",
      "[{\"t\":6,\"PhoneId\":\"268\",\"x\":600.410273702,\"y\":650.778988449},{\"t\":6,\"PhoneId\":\"292\",\"x\":599.97087655,\"y\":651.709309596},{\"t\":6,\"PhoneId\":\"291\",\"x\":599.97087655,\"y\":651.709309596},{\"t\":6,\"PhoneId\":\"230\",\"x\":600.971571311,\"y\":652.281334357},{\"t\":6,\"PhoneId\":\"289\",\"x\":600.384426337,\"y\":650.135919067},{\"t\":6,\"PhoneId\":\"230\",\"x\":600.971571311,\"y\":652.281334357},{\"t\":6,\"PhoneId\":\"297\",\"x\":600.252471518,\"y\":653.516076022},{\"t\":6,\"PhoneId\":\"296\",\"x\":600.252471518,\"y\":653.516076022},{\"t\":6,\"PhoneId\":\"234\",\"x\":601.514911596,\"y\":650.068348954},{\"t\":6,\"PhoneId\":\"257\",\"x\":600.14100525,\"y\":652.560792839},{\"t\":6,\"PhoneId\":\"268\",\"x\":600.410273702,\"y\":650.778988449},{\"t\":6,\"PhoneId\":\"242\",\"x\":601.15316618,\"y\":651.525617877},{\"t\":6,\"PhoneId\":\"241\",\"x\":601.15316618,\"y\":651.525617877},{\"t\":6,\"PhoneId\":\"297\",\"x\":600.252471518,\"y\":653.516076022},{\"t\":6,\"PhoneId\":\"296\",\"x\":600.252471518,\"y\":653.516076022},{\"t\":6,\"PhoneId\":\"270\",\"x\":600.831599683,\"y\":650.572761229},{\"t\":6,\"PhoneId\":\"273\",\"x\":600.19574499,\"y\":649.919004013},{\"t\":6,\"PhoneId\":\"253\",\"x\":600.091015093,\"y\":649.791594036},{\"t\":6,\"PhoneId\":\"299\",\"x\":599.799318152,\"y\":649.623683818},{\"t\":6,\"PhoneId\":\"299\",\"x\":599.799318152,\"y\":649.623683818},{\"t\":6,\"PhoneId\":\"280\",\"x\":600.255040228,\"y\":649.02791859},{\"t\":6,\"PhoneId\":\"284\",\"x\":601.197974211,\"y\":650.61512061},{\"t\":6,\"PhoneId\":\"283\",\"x\":601.197974211,\"y\":650.61512061},{\"t\":6,\"PhoneId\":\"257\",\"x\":600.14100525,\"y\":652.560792839},{\"t\":6,\"PhoneId\":\"270\",\"x\":600.831599683,\"y\":650.572761229},{\"t\":6,\"PhoneId\":\"292\",\"x\":599.97087655,\"y\":651.709309596},{\"t\":6,\"PhoneId\":\"291\",\"x\":599.97087655,\"y\":651.709309596},{\"t\":6,\"PhoneId\":\"259\",\"x\":600.078941324,\"y\":651.854245087},{\"t\":6,\"PhoneId\":\"246\",\"x\":599.987832676,\"y\":651.933067514},{\"t\":6,\"PhoneId\":\"245\",\"x\":599.987832676,\"y\":651.933067514},{\"t\":6,\"PhoneId\":\"276\",\"x\":601.026924381,\"y\":649.883108971}]\n",
      "[{\"t\":7,\"PhoneId\":\"268\",\"x\":600.410273702,\"y\":650.778988449},{\"t\":7,\"PhoneId\":\"292\",\"x\":600.014747555,\"y\":651.529208524},{\"t\":7,\"PhoneId\":\"291\",\"x\":600.014747555,\"y\":651.529208524},{\"t\":7,\"PhoneId\":\"289\",\"x\":600.384426337,\"y\":650.135919067},{\"t\":7,\"PhoneId\":\"242\",\"x\":600.408470275,\"y\":652.231456416},{\"t\":7,\"PhoneId\":\"241\",\"x\":600.408470275,\"y\":652.231456416},{\"t\":7,\"PhoneId\":\"230\",\"x\":600.971571311,\"y\":652.281334357},{\"t\":7,\"PhoneId\":\"292\",\"x\":600.014747555,\"y\":651.529208524},{\"t\":7,\"PhoneId\":\"291\",\"x\":600.014747555,\"y\":651.529208524},{\"t\":7,\"PhoneId\":\"234\",\"x\":601.514911596,\"y\":650.068348954},{\"t\":7,\"PhoneId\":\"242\",\"x\":600.408470275,\"y\":652.231456416},{\"t\":7,\"PhoneId\":\"241\",\"x\":600.408470275,\"y\":652.231456416},{\"t\":7,\"PhoneId\":\"297\",\"x\":600.252471518,\"y\":653.516076022},{\"t\":7,\"PhoneId\":\"296\",\"x\":600.252471518,\"y\":653.516076022},{\"t\":7,\"PhoneId\":\"270\",\"x\":600.12908902,\"y\":651.25723974},{\"t\":7,\"PhoneId\":\"273\",\"x\":600.19574499,\"y\":649.919004013},{\"t\":7,\"PhoneId\":\"253\",\"x\":600.091015093,\"y\":649.791594036},{\"t\":7,\"PhoneId\":\"299\",\"x\":599.799318152,\"y\":649.623683818},{\"t\":7,\"PhoneId\":\"270\",\"x\":600.12908902,\"y\":651.25723974},{\"t\":7,\"PhoneId\":\"280\",\"x\":600.255040228,\"y\":649.02791859},{\"t\":7,\"PhoneId\":\"284\",\"x\":601.056522961,\"y\":650.771103744},{\"t\":7,\"PhoneId\":\"283\",\"x\":601.056522961,\"y\":650.771103744},{\"t\":7,\"PhoneId\":\"257\",\"x\":600.14100525,\"y\":652.560792839},{\"t\":7,\"PhoneId\":\"259\",\"x\":600.078941324,\"y\":651.854245087},{\"t\":7,\"PhoneId\":\"246\",\"x\":599.987832676,\"y\":651.933067514},{\"t\":7,\"PhoneId\":\"245\",\"x\":599.987832676,\"y\":651.933067514},{\"t\":7,\"PhoneId\":\"284\",\"x\":601.056522961,\"y\":650.771103744},{\"t\":7,\"PhoneId\":\"283\",\"x\":601.056522961,\"y\":650.771103744},{\"t\":7,\"PhoneId\":\"276\",\"x\":601.026924381,\"y\":649.883108971}]\n",
      "[{\"t\":8,\"PhoneId\":\"268\",\"x\":600.410273702,\"y\":650.778988449},{\"t\":8,\"PhoneId\":\"292\",\"x\":600.135900138,\"y\":651.388912008},{\"t\":8,\"PhoneId\":\"291\",\"x\":600.135900138,\"y\":651.388912008},{\"t\":8,\"PhoneId\":\"289\",\"x\":600.384426337,\"y\":650.135919067},{\"t\":8,\"PhoneId\":\"242\",\"x\":600.408470275,\"y\":652.231456416},{\"t\":8,\"PhoneId\":\"241\",\"x\":600.408470275,\"y\":652.231456416},{\"t\":8,\"PhoneId\":\"230\",\"x\":600.273755739,\"y\":652.99573707},{\"t\":8,\"PhoneId\":\"230\",\"x\":600.273755739,\"y\":652.99573707},{\"t\":8,\"PhoneId\":\"292\",\"x\":600.135900138,\"y\":651.388912008},{\"t\":8,\"PhoneId\":\"291\",\"x\":600.135900138,\"y\":651.388912008},{\"t\":8,\"PhoneId\":\"257\",\"x\":600.102536634,\"y\":652.381632529},{\"t\":8,\"PhoneId\":\"297\",\"x\":600.36136907,\"y\":653.379649436},{\"t\":8,\"PhoneId\":\"296\",\"x\":600.36136907,\"y\":653.379649436},{\"t\":8,\"PhoneId\":\"234\",\"x\":601.514911596,\"y\":650.068348954},{\"t\":8,\"PhoneId\":\"297\",\"x\":600.36136907,\"y\":653.379649436},{\"t\":8,\"PhoneId\":\"296\",\"x\":600.36136907,\"y\":653.379649436},{\"t\":8,\"PhoneId\":\"273\",\"x\":600.19574499,\"y\":649.919004013},{\"t\":8,\"PhoneId\":\"253\",\"x\":600.091015093,\"y\":649.791594036},{\"t\":8,\"PhoneId\":\"284\",\"x\":600.929818494,\"y\":650.939285706},{\"t\":8,\"PhoneId\":\"283\",\"x\":600.929818494,\"y\":650.939285706},{\"t\":8,\"PhoneId\":\"299\",\"x\":599.830792487,\"y\":649.47340205},{\"t\":8,\"PhoneId\":\"270\",\"x\":600.12908902,\"y\":651.25723974},{\"t\":8,\"PhoneId\":\"299\",\"x\":599.830792487,\"y\":649.47340205},{\"t\":8,\"PhoneId\":\"280\",\"x\":600.255040228,\"y\":649.02791859},{\"t\":8,\"PhoneId\":\"257\",\"x\":600.102536634,\"y\":652.381632529},{\"t\":8,\"PhoneId\":\"259\",\"x\":600.078941324,\"y\":651.854245087},{\"t\":8,\"PhoneId\":\"246\",\"x\":599.987832676,\"y\":651.933067514},{\"t\":8,\"PhoneId\":\"245\",\"x\":599.987832676,\"y\":651.933067514},{\"t\":8,\"PhoneId\":\"284\",\"x\":600.929818494,\"y\":650.939285706},{\"t\":8,\"PhoneId\":\"283\",\"x\":600.929818494,\"y\":650.939285706},{\"t\":8,\"PhoneId\":\"276\",\"x\":601.026924381,\"y\":649.883108971}]\n"
     ]
    }
   ],
   "source": [
    "def generate_checkpoint(input_file):\n",
    "    for i in range(0,input_file.t.max()):\n",
    "        input_file_topush = input_file[input_file.t==i]\n",
    "        message = input_file_topush.to_json(orient='records')\n",
    "        print(message)\n",
    "        producer.produce(message.encode('ascii'))\n",
    "        time.sleep(3)\n",
    "        \n",
    "generate_checkpoint(input_file)"
   ]
  }
 ],
 "metadata": {
  "kernelspec": {
   "display_name": "Python 3",
   "language": "python",
   "name": "python3"
  },
  "language_info": {
   "codemirror_mode": {
    "name": "ipython",
    "version": 3
   },
   "file_extension": ".py",
   "mimetype": "text/x-python",
   "name": "python",
   "nbconvert_exporter": "python",
   "pygments_lexer": "ipython3",
   "version": "3.7.7"
  }
 },
 "nbformat": 4,
 "nbformat_minor": 4
}
