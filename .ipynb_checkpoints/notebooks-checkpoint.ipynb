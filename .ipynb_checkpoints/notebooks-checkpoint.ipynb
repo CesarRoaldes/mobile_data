{
 "cells": [
  {
   "cell_type": "code",
   "execution_count": 1,
   "metadata": {},
   "outputs": [],
   "source": [
    "###################################################################\n",
    "################# Préparer le fond de carte Plotly #################\n",
    "###################################################################\n",
    "\n",
    "import os \n",
    "import pandas as pd\n",
    "from shapely.geometry import Point, Polygon\n",
    "from shapely import wkt\n",
    "import geopandas\n",
    "import json\n",
    "os.chdir('../madrid_sim') #If clone into \"simulator\"\n",
    "\n",
    "Antenne_Info=pd.read_csv('AntennaInfo_MNO_MNO1.csv') # Open csv\n",
    "Antenne_Info.columns=['t','Antenna_Id','Event_code','Device_ID','x','y','Tile_ID'] #Set column names\n",
    "Antenne_Info=Antenne_Info[['Antenna_Id','x','y']] # Keep interesting stuff\n",
    "Antenne_Info=Antenne_Info.drop_duplicates(ignore_index=True) # drop duplicates\n",
    "Antenne_Info=Antenne_Info.drop_duplicates(subset=['x','y'],ignore_index=True)\n",
    "Antenne_Info=Antenne_Info.drop_duplicates(subset=['Antenna_Id'],ignore_index=True)\n",
    "Antenne_Info=Antenne_Info.sort_values('Antenna_Id',ignore_index=True)\n",
    "Antenne_Info.to_json('/home/cerezamo/projet_stream/simulator/mobile_data/app/antennes.json',orient='records')\n",
    "\n",
    "###################################################################\n",
    "################# Préparer la base d'input Kafka ##################\n",
    "###################################################################\n",
    "import re\n",
    "import datetime\n",
    "from datetime import datetime, timedelta\n",
    "\n",
    "DATA_PATH = os.getcwd()\n",
    "files = [f for f in os.listdir(DATA_PATH) if (os.path.isfile(os.path.join(DATA_PATH, f)) and re.match('\\\\d_MNO_MNO1.csv', f[-14:]))]\n",
    "\n",
    "data = pd.DataFrame(columns=['t','AntennaId','EventCode','PhoneId','x','y','TileId'])\n",
    "for file in files:\n",
    "    data_to_append = pd.read_csv(file)\n",
    "    data=data.append(data_to_append)\n",
    "    \n",
    "\n",
    "data.PhoneId = data.PhoneId.astype(str)\n",
    "base = datetime.now()\n",
    "time_list = [base + timedelta(minutes=i) for i in range(len(data.t.unique()))]\n",
    "time_list = [t.strftime(\"%m-%d-%Y %H:%M:%S\") for t in time_list]\n",
    "mergetime = pd.concat([pd.DataFrame(data.t.unique()),pd.DataFrame(time_list)],axis=1)\n",
    "mergetime.columns =['t','timestamp']\n",
    "data = data.merge(mergetime,on='t')\n",
    "data"
   ]
  }
 ],
 "metadata": {
  "kernelspec": {
   "display_name": "Python 3",
   "language": "python",
   "name": "python3"
  },
  "language_info": {
   "codemirror_mode": {
    "name": "ipython",
    "version": 3
   },
   "file_extension": ".py",
   "mimetype": "text/x-python",
   "name": "python",
   "nbconvert_exporter": "python",
   "pygments_lexer": "ipython3",
   "version": "3.7.7"
  }
 },
 "nbformat": 4,
 "nbformat_minor": 4
}
