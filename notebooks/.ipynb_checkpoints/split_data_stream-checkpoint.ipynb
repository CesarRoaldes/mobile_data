{
 "cells": [
  {
   "cell_type": "raw",
   "metadata": {},
   "source": [
    "data = pd.read_csv(\"../mobile_data/kafka_minimal_df.csv\")"
   ]
  },
  {
   "cell_type": "code",
   "execution_count": 7,
   "metadata": {},
   "outputs": [],
   "source": [
    "from pyspark.sql import SparkSession"
   ]
  },
  {
   "cell_type": "code",
   "execution_count": 9,
   "metadata": {},
   "outputs": [],
   "source": [
    "spark = SparkSession.builder \\\n",
    "  .appName(\"Split file\") \\\n",
    "  .getOrCreate()"
   ]
  },
  {
   "cell_type": "code",
   "execution_count": 15,
   "metadata": {},
   "outputs": [],
   "source": [
    "data = spark.read.format('csv').option('inferSchema', True)\\\n",
    "    .option('header', True) \\\n",
    "    .load('../mobile_data/kafka_minimal_df.csv')"
   ]
  },
  {
   "cell_type": "code",
   "execution_count": 21,
   "metadata": {},
   "outputs": [
    {
     "name": "stdout",
     "output_type": "stream",
     "text": [
      "+---+---------+---------+-------+-----------------+-----------------+------+\n",
      "|  t|AntennaId|EventCode|PhoneId|                x|                y|TileId|\n",
      "+---+---------+---------+-------+-----------------+-----------------+------+\n",
      "|  0|      227|        0|    296|    600995.281445|    652785.571876|  1147|\n",
      "|  0|      227|        0|    297|    600995.281445|    652785.571876|  1147|\n",
      "|  0|      194|        0|    289|    600384.426337|    650135.919067|   439|\n",
      "|  0|      180|        0|    257|600901.5542819999|    651774.870814|   876|\n",
      "|  0|      161|        0|    259|600203.0787020001|        651730.08|   869|\n",
      "|  0|      159|        0|    230|    601129.055069|653193.9500760001|  1256|\n",
      "|  0|      156|        0|    283|    602103.592967|    649742.183146|   348|\n",
      "|  0|      156|        0|    284|    602103.592967|    649742.183146|   348|\n",
      "|  0|      142|        0|    268|    600564.455101|    652729.315347|  1142|\n",
      "|  0|      133|        0|    241|601462.6948470001|    648964.107958|   125|\n",
      "|  0|      133|        0|    242|601462.6948470001|    648964.107958|   125|\n",
      "|  0|      131|        0|    234|    601514.911596|    650068.348954|   423|\n",
      "|  0|      101|        0|    273|    600216.462154|    649458.409534|   248|\n",
      "|  0|       79|        0|    291|     600509.61435|651407.6580279999|   791|\n",
      "|  0|       79|        0|    292|     600509.61435|651407.6580279999|   791|\n",
      "|  0|       77|        0|    270|    600008.765087|    650833.277593|   624|\n",
      "|  0|       63|        0|    299|600431.3578850001|    648956.498195|   115|\n",
      "|  0|       39|        0|    276|    601136.553094|     649742.96542|   338|\n",
      "|  0|       23|        0|    245|    600110.959703|    651829.085065|   895|\n",
      "|  0|       23|        0|    246|    600110.959703|    651829.085065|   895|\n",
      "+---+---------+---------+-------+-----------------+-----------------+------+\n",
      "only showing top 20 rows\n",
      "\n"
     ]
    }
   ],
   "source": [
    "data.show()"
   ]
  },
  {
   "cell_type": "code",
   "execution_count": 24,
   "metadata": {},
   "outputs": [],
   "source": [
    "data.write.partitionBy('t').format('csv').save('/home/cesar/cours/ensae/donnees_distrib/projet/mobile_data/split_data/split')"
   ]
  },
  {
   "cell_type": "code",
   "execution_count": null,
   "metadata": {},
   "outputs": [],
   "source": []
  }
 ],
 "metadata": {
  "kernelspec": {
   "display_name": "Python 3",
   "language": "python",
   "name": "python3"
  },
  "language_info": {
   "codemirror_mode": {
    "name": "ipython",
    "version": 3
   },
   "file_extension": ".py",
   "mimetype": "text/x-python",
   "name": "python",
   "nbconvert_exporter": "python",
   "pygments_lexer": "ipython3",
   "version": "3.7.6"
  }
 },
 "nbformat": 4,
 "nbformat_minor": 4
}
