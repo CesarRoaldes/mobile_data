{
 "cells": [
  {
   "cell_type": "code",
   "execution_count": 1,
   "metadata": {},
   "outputs": [],
   "source": [
    "import os\n",
    "os.environ['PYSPARK_SUBMIT_ARGS'] = '--packages org.apache.spark:spark-sql-kafka-0-10_2.11:2.4.5 pyspark-shell'"
   ]
  },
  {
   "cell_type": "code",
   "execution_count": 2,
   "metadata": {},
   "outputs": [],
   "source": [
    "import pyspark\n",
    "import os\n",
    "import re"
   ]
  },
  {
   "cell_type": "code",
   "execution_count": 3,
   "metadata": {},
   "outputs": [],
   "source": [
    "DATA_PATH = '../../data/madrid_sim'"
   ]
  },
  {
   "cell_type": "code",
   "execution_count": 4,
   "metadata": {},
   "outputs": [],
   "source": [
    "files = [f for f in os.listdir(DATA_PATH) if (os.path.isfile(os.path.join(DATA_PATH, f)) and re.match('\\d_MNO_MNO1.csv', f[-14:]))]"
   ]
  },
  {
   "cell_type": "code",
   "execution_count": 5,
   "metadata": {},
   "outputs": [],
   "source": [
    "sc = pyspark.SparkContext()"
   ]
  },
  {
   "cell_type": "code",
   "execution_count": 6,
   "metadata": {},
   "outputs": [
    {
     "data": {
      "text/html": [
       "\n",
       "        <div>\n",
       "            <p><b>SparkContext</b></p>\n",
       "\n",
       "            <p><a href=\"http://192.168.1.1:4040\">Spark UI</a></p>\n",
       "\n",
       "            <dl>\n",
       "              <dt>Version</dt>\n",
       "                <dd><code>v2.4.5</code></dd>\n",
       "              <dt>Master</dt>\n",
       "                <dd><code>local[*]</code></dd>\n",
       "              <dt>AppName</dt>\n",
       "                <dd><code>pyspark-shell</code></dd>\n",
       "            </dl>\n",
       "        </div>\n",
       "        "
      ],
      "text/plain": [
       "<SparkContext master=local[*] appName=pyspark-shell>"
      ]
     },
     "execution_count": 6,
     "metadata": {},
     "output_type": "execute_result"
    }
   ],
   "source": [
    "sc"
   ]
  },
  {
   "cell_type": "code",
   "execution_count": 7,
   "metadata": {},
   "outputs": [],
   "source": [
    "sqlContext = pyspark.SQLContext(sc)\n",
    "sc.addFile(os.path.join(DATA_PATH, files[0]))"
   ]
  },
  {
   "cell_type": "code",
   "execution_count": 8,
   "metadata": {},
   "outputs": [],
   "source": [
    "from pyspark.sql.types import *\n",
    "\n",
    "schema = StructType([StructField(\"t\", IntegerType(), True), \n",
    "                     StructField(\"AntennaId\", IntegerType(), True), \n",
    "                     StructField(\"EventCode\", IntegerType(), True),\n",
    "                     StructField(\"PhoneId\", IntegerType(), True), \n",
    "                     StructField(\"x\", FloatType(), True),\n",
    "                     StructField(\"y\", FloatType(), True),\n",
    "                     StructField(\"TileId\", IntegerType(), True)\n",
    "                   ])"
   ]
  },
  {
   "cell_type": "code",
   "execution_count": 9,
   "metadata": {},
   "outputs": [],
   "source": [
    "main_df = sqlContext.read.csv(pyspark.SparkFiles.get(files[0]), header=True, schema=schema)"
   ]
  },
  {
   "cell_type": "code",
   "execution_count": 10,
   "metadata": {},
   "outputs": [
    {
     "name": "stdout",
     "output_type": "stream",
     "text": [
      "+---+---------+---------+-------+---+---+------+\n",
      "|  t|AntennaId|EventCode|PhoneId|  x|  y|TileId|\n",
      "+---+---------+---------+-------+---+---+------+\n",
      "+---+---------+---------+-------+---+---+------+\n",
      "\n"
     ]
    }
   ],
   "source": [
    "main_df.show()"
   ]
  },
  {
   "cell_type": "markdown",
   "metadata": {},
   "source": [
    "# **Partie Streaming de donnée**"
   ]
  },
  {
   "cell_type": "code",
   "execution_count": 2,
   "metadata": {},
   "outputs": [],
   "source": [
    "from pyspark.sql import SparkSession"
   ]
  },
  {
   "cell_type": "code",
   "execution_count": 3,
   "metadata": {},
   "outputs": [],
   "source": [
    "spark = SparkSession.builder \\\n",
    "  .appName(\"Spark Structured Streaming from Kafka\") \\\n",
    "  .getOrCreate()"
   ]
  },
  {
   "cell_type": "code",
   "execution_count": 4,
   "metadata": {},
   "outputs": [],
   "source": [
    "sdfAntennes = spark \\\n",
    "  .readStream \\\n",
    "  .format(\"kafka\") \\\n",
    "  .option(\"kafka.bootstrap.servers\", \"localhost:9092\") \\\n",
    "  .option(\"subscribe\", \"antennes\") \\\n",
    "  .option(\"startingOffsets\", \"latest\") \\\n",
    "  .load() \\\n",
    "  .selectExpr(\"CAST(value AS STRING)\")"
   ]
  },
  {
   "cell_type": "code",
   "execution_count": 5,
   "metadata": {},
   "outputs": [],
   "source": [
    "from pyspark.sql.types import *\n",
    "\n",
    "schema_ant = StructType([StructField(\"t\", IntegerType()),\n",
    "                     StructField(\"AntennaId\", IntegerType()),\n",
    "                     StructField(\"EventCode\", IntegerType()),\n",
    "                     StructField(\"PhoneId\", IntegerType()),\n",
    "                     StructField(\"x\", FloatType()), \n",
    "                     StructField(\"y\", FloatType()),\n",
    "                     StructField(\"TileId\", IntegerType()) ])"
   ]
  },
  {
   "cell_type": "code",
   "execution_count": 6,
   "metadata": {},
   "outputs": [],
   "source": [
    "def parse_data_from_kafka_message(sdf, schema):\n",
    "    \n",
    "    from pyspark.sql.functions import split\n",
    "    \n",
    "    assert sdf.isStreaming == True, \"DataFrame doesn't receive streaming data\"\n",
    "    col = split(sdf['value'], ',')\n",
    "    \n",
    "    for idx, field in enumerate(schema): \n",
    "        sdf = sdf.withColumn(field.name, col.getItem(idx).cast(field.dataType))\n",
    "        \n",
    "    return sdf.select([field.name for field in schema])"
   ]
  },
  {
   "cell_type": "code",
   "execution_count": 7,
   "metadata": {},
   "outputs": [],
   "source": [
    "sdfAntennes = parse_data_from_kafka_message(sdfAntennes, schema_ant)"
   ]
  },
  {
   "cell_type": "code",
   "execution_count": 8,
   "metadata": {},
   "outputs": [],
   "source": [
    "query = sdfAntennes.select(\"AntennaId\").writeStream.format(\"console\").start()\n",
    "# Pour arrêter le stream on fait query.stop()"
   ]
  },
  {
   "cell_type": "code",
   "execution_count": 26,
   "metadata": {},
   "outputs": [
    {
     "data": {
      "text/plain": [
       "<pyspark.sql.streaming.StreamingQuery at 0x7fae646f0cd0>"
      ]
     },
     "execution_count": 26,
     "metadata": {},
     "output_type": "execute_result"
    }
   ],
   "source": [
    "query"
   ]
  },
  {
   "cell_type": "code",
   "execution_count": null,
   "metadata": {},
   "outputs": [],
   "source": [
    "!cat /home/cesar/cours/ensae/donnees_distrib/projet/mobile_data/kafka_minimal_df.csv \\\n",
    "| split -l 10 --filter=\"$KAFKA/bin/kafka-console-producer.sh --broker-list localhost:9092 --topic antennes; sleep 0.5\" \\\n",
    "> /dev/null"
   ]
  },
  {
   "cell_type": "markdown",
   "metadata": {},
   "source": [
    "# **Partie Retraitement**"
   ]
  },
  {
   "cell_type": "code",
   "execution_count": null,
   "metadata": {},
   "outputs": [],
   "source": [
    "def actualisation(base, batch):\n",
    "    \n",
    "    base = base.union(batch.na.drop() \\\n",
    "                           .orderBy('t', ascending=False) \\\n",
    "                           .dropDuplicates(subset = ['PhoneId']))\n",
    "    \n",
    "    base = base.orderBy('t', ascending=False) \\\n",
    "               .coalesce(1) \\\n",
    "               .dropDuplicates(subset = ['PhoneId'])\n",
    "    \n",
    "    return base"
   ]
  },
  {
   "cell_type": "raw",
   "metadata": {},
   "source": [
    "df0 = actualisation(df0, df1)"
   ]
  },
  {
   "cell_type": "raw",
   "metadata": {},
   "source": [
    "tile_base = df0.groupBy('TileId').count()"
   ]
  }
 ],
 "metadata": {
  "kernelspec": {
   "display_name": "Python 3",
   "language": "python",
   "name": "python3"
  },
  "language_info": {
   "codemirror_mode": {
    "name": "ipython",
    "version": 3
   },
   "file_extension": ".py",
   "mimetype": "text/x-python",
   "name": "python",
   "nbconvert_exporter": "python",
   "pygments_lexer": "ipython3",
   "version": "3.7.7"
  }
 },
 "nbformat": 4,
 "nbformat_minor": 4
}
