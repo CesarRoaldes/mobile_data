{
 "cells": [
  {
   "cell_type": "markdown",
   "metadata": {},
   "source": [
    "# **Partie Streaming de donnée**"
   ]
  },
  {
   "cell_type": "code",
   "execution_count": 3,
   "metadata": {},
   "outputs": [],
   "source": [
    "from pyspark.sql import SparkSession"
   ]
  },
  {
   "cell_type": "code",
   "execution_count": 2,
   "metadata": {},
   "outputs": [],
   "source": [
    "spark = SparkSession.builder \\\n",
    "  .appName(\"Spark Structured Streaming from Kafka\") \\\n",
    "  .getOrCreate()"
   ]
  },
  {
   "cell_type": "code",
   "execution_count": null,
   "metadata": {},
   "outputs": [],
   "source": [
    "sdfAntennes = spark \\\n",
    "  .readStream \\\n",
    "  .format(\"kafka\") \\\n",
    "  .option(\"kafka.bootstrap.servers\", \"localhost:9092\") \\\n",
    "  .option(\"subscribe\", \"antennes\") \\\n",
    "  .option(\"startingOffsets\", \"latest\") \\\n",
    "  .load() \\\n",
    "  .selectExpr(\"CAST(value AS STRING)\")"
   ]
  },
  {
   "cell_type": "code",
   "execution_count": null,
   "metadata": {},
   "outputs": [],
   "source": [
    "from pyspark.sql.types import *\n",
    "\n",
    "schema_ant = StructType([StructField(\"t\", IntegerType()),\n",
    "                     StructField(\"AntennaId\", IntegerType()),\n",
    "                     StructField(\"EventCode\", IntegerType()),\n",
    "                     StructField(\"PhoneId\", IntegerType()),\n",
    "                     StructField(\"x\", FloatType()), \n",
    "                     StructField(\"y\", FloatType()),\n",
    "                     StructField(\"TileId\", IntegerType()) ])"
   ]
  },
  {
   "cell_type": "code",
   "execution_count": null,
   "metadata": {},
   "outputs": [],
   "source": [
    "def parse_data_from_kafka_message(sdf, schema):\n",
    "    \n",
    "    from pyspark.sql.functions import split\n",
    "    \n",
    "    assert sdf.isStreaming == True, \"DataFrame doesn't receive streaming data\"\n",
    "    col = split(sdf['value'], ',')\n",
    "    \n",
    "    for idx, field in enumerate(schema): \n",
    "        sdf = sdf.withColumn(field.name, col.getItem(idx).cast(field.dataType))\n",
    "        \n",
    "    return sdf.select([field.name for field in schema])"
   ]
  },
  {
   "cell_type": "code",
   "execution_count": null,
   "metadata": {},
   "outputs": [],
   "source": [
    "sdfAntennes = parse_data_from_kafka_message(sdfAntennes, schema_ant)"
   ]
  },
  {
   "cell_type": "code",
   "execution_count": null,
   "metadata": {},
   "outputs": [],
   "source": [
    "query = sdfAntennes.select(\"AntennaId\").writeStream.format(\"console\").start()\n",
    "# Pour arrêter le stream on fait query.stop()"
   ]
  },
  {
   "cell_type": "markdown",
   "metadata": {},
   "source": [
    "# **Partie Retraitement**"
   ]
  },
  {
   "cell_type": "code",
   "execution_count": null,
   "metadata": {},
   "outputs": [],
   "source": [
    "def actualisation(base, batch):\n",
    "    \n",
    "    base = base.union(batch.na.drop() \\\n",
    "                           .orderBy('t', ascending=False) \\\n",
    "                           .dropDuplicates(subset = ['PhoneId']))\n",
    "    \n",
    "    base = base.orderBy('t', ascending=False) \\\n",
    "               .coalesce(1) \\\n",
    "               .dropDuplicates(subset = ['PhoneId'])\n",
    "    \n",
    "    return base"
   ]
  },
  {
   "cell_type": "raw",
   "metadata": {},
   "source": [
    "df0 = actualisation(df0, df1)"
   ]
  },
  {
   "cell_type": "raw",
   "metadata": {},
   "source": [
    "tile_base = df0.groupBy('TileId').count()"
   ]
  }
 ],
 "metadata": {
  "kernelspec": {
   "display_name": "Python 3",
   "language": "python",
   "name": "python3"
  },
  "language_info": {
   "codemirror_mode": {
    "name": "ipython",
    "version": 3
   },
   "file_extension": ".py",
   "mimetype": "text/x-python",
   "name": "python",
   "nbconvert_exporter": "python",
   "pygments_lexer": "ipython3",
   "version": "3.7.7"
  }
 },
 "nbformat": 4,
 "nbformat_minor": 4
}
