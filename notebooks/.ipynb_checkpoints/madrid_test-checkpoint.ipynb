{
 "cells": [
  {
   "cell_type": "code",
   "execution_count": 1,
   "metadata": {},
   "outputs": [],
   "source": [
    "import pyspark\n",
    "import os\n",
    "import re"
   ]
  },
  {
   "cell_type": "code",
   "execution_count": 2,
   "metadata": {},
   "outputs": [],
   "source": [
    "DATA_PATH = '../data/madrid_sim'"
   ]
  },
  {
   "cell_type": "code",
   "execution_count": 3,
   "metadata": {},
   "outputs": [],
   "source": [
    "files = [f for f in os.listdir(DATA_PATH) if (os.path.isfile(os.path.join(DATA_PATH, f)) and re.match('\\d_MNO_MNO1.csv', f[-14:]))]"
   ]
  },
  {
   "cell_type": "code",
   "execution_count": 4,
   "metadata": {},
   "outputs": [],
   "source": [
    "sc = pyspark.SparkContext()"
   ]
  },
  {
   "cell_type": "code",
   "execution_count": 5,
   "metadata": {},
   "outputs": [
    {
     "data": {
      "text/html": [
       "\n",
       "        <div>\n",
       "            <p><b>SparkContext</b></p>\n",
       "\n",
       "            <p><a href=\"http://192.168.1.1:4040\">Spark UI</a></p>\n",
       "\n",
       "            <dl>\n",
       "              <dt>Version</dt>\n",
       "                <dd><code>v2.4.5</code></dd>\n",
       "              <dt>Master</dt>\n",
       "                <dd><code>local[*]</code></dd>\n",
       "              <dt>AppName</dt>\n",
       "                <dd><code>pyspark-shell</code></dd>\n",
       "            </dl>\n",
       "        </div>\n",
       "        "
      ],
      "text/plain": [
       "<SparkContext master=local[*] appName=pyspark-shell>"
      ]
     },
     "execution_count": 5,
     "metadata": {},
     "output_type": "execute_result"
    }
   ],
   "source": [
    "sc"
   ]
  },
  {
   "cell_type": "code",
   "execution_count": 6,
   "metadata": {},
   "outputs": [],
   "source": [
    "sqlContext = pyspark.SQLContext(sc)"
   ]
  },
  {
   "cell_type": "code",
   "execution_count": 7,
   "metadata": {},
   "outputs": [],
   "source": [
    "sc.addFile(os.path.join(DATA_PATH, files[0]))"
   ]
  },
  {
   "cell_type": "code",
   "execution_count": 8,
   "metadata": {},
   "outputs": [],
   "source": [
    "from pyspark.sql.types import *\n",
    "\n",
    "schema = StructType([StructField(\"t\", IntegerType(), True), \n",
    "                     StructField(\"AntennaId\", IntegerType(), True), \n",
    "                     StructField(\"EventCode\", IntegerType(), True),\n",
    "                     StructField(\"PhoneId\", IntegerType(), True), \n",
    "                     StructField(\"x\", FloatType(), True),\n",
    "                     StructField(\"y\", FloatType(), True),\n",
    "                     StructField(\"TileId\", IntegerType(), True)\n",
    "                   ])"
   ]
  },
  {
   "cell_type": "code",
   "execution_count": 13,
   "metadata": {},
   "outputs": [],
   "source": [
    "main_df = sqlContext.read.csv(pyspark.SparkFiles.get(files[0]), header=True, schema=schema)"
   ]
  },
  {
   "cell_type": "code",
   "execution_count": 14,
   "metadata": {},
   "outputs": [],
   "source": [
    "for i in range (1, len(files)):\n",
    "    sc.addFile(os.path.join(DATA_PATH, files[i]))\n",
    "    main_df = main_df.union(sqlContext.read.csv(pyspark.SparkFiles.get(files[i]), header=True, schema=schema))"
   ]
  },
  {
   "cell_type": "code",
   "execution_count": 11,
   "metadata": {},
   "outputs": [
    {
     "name": "stdout",
     "output_type": "stream",
     "text": [
      "+---+---------+---------+-------+---------+---------+------+\n",
      "|  t|AntennaId|EventCode|PhoneId|        x|        y|TileId|\n",
      "+---+---------+---------+-------+---------+---------+------+\n",
      "| 46|       73|        0|    242| 602098.7| 650285.4|   483|\n",
      "| 46|       73|        0|    241| 602098.7| 650285.4|   483|\n",
      "| 47|       73|        2|    242| 602098.7| 650285.4|   483|\n",
      "| 47|       73|        2|    241| 602098.7| 650285.4|   483|\n",
      "| 48|       73|        1|    242|601461.25| 649481.3|   260|\n",
      "| 48|       73|        1|    241|601461.25| 649481.3|   260|\n",
      "|  7|       95|        0|    268| 601408.6|650864.44|   638|\n",
      "|  8|       95|        2|    268| 601408.6|650864.44|   638|\n",
      "|  9|       95|        2|    268| 601408.6|650864.44|   638|\n",
      "| 10|       95|        2|    268| 601408.6|650864.44|   638|\n",
      "| 11|       95|        2|    268| 601408.6|650864.44|   638|\n",
      "| 12|       95|        2|    268| 601408.6|650864.44|   638|\n",
      "| 13|       95|        2|    268| 601408.6|650864.44|   638|\n",
      "| 14|       95|        2|    268| 601408.6|650864.44|   638|\n",
      "| 15|       95|        2|    268| 601408.6|650864.44|   638|\n",
      "| 16|       95|        2|    268| 601408.6|650864.44|   638|\n",
      "| 17|       95|        2|    268| 601408.6|650864.44|   638|\n",
      "| 18|       95|        2|    268| 601408.6|650864.44|   638|\n",
      "| 19|       95|        2|    268| 601408.6|650864.44|   638|\n",
      "| 20|       95|        2|    268| 601408.6|650864.44|   638|\n",
      "| 21|       95|        2|    268| 601408.6|650864.44|   638|\n",
      "| 22|       95|        2|    268| 601408.6|650864.44|   638|\n",
      "| 23|       95|        2|    268| 601408.6|650864.44|   638|\n",
      "| 24|       95|        2|    268| 601408.6|650864.44|   638|\n",
      "| 25|       95|        2|    268| 601408.6|650864.44|   638|\n",
      "| 26|       95|        2|    268| 601408.6|650864.44|   638|\n",
      "| 27|       95|        2|    268| 601408.6|650864.44|   638|\n",
      "| 28|       95|        2|    268| 601408.6|650864.44|   638|\n",
      "| 29|       95|        2|    268| 601408.6|650864.44|   638|\n",
      "| 30|       95|        2|    268| 601408.6|650864.44|   638|\n",
      "| 31|       95|        2|    268| 601408.6|650864.44|   638|\n",
      "| 32|       95|        2|    268| 601408.6|650864.44|   638|\n",
      "| 33|       95|        2|    268| 601408.6|650864.44|   638|\n",
      "| 34|       95|        2|    268| 601408.6|650864.44|   638|\n",
      "| 35|       95|        2|    268| 601408.6|650864.44|   638|\n",
      "| 36|       95|        2|    268| 601408.6|650864.44|   638|\n",
      "| 37|       95|        2|    268| 601408.6|650864.44|   638|\n",
      "| 38|       95|        2|    268| 601408.6|650864.44|   638|\n",
      "| 39|       95|        2|    268| 601408.6|650864.44|   638|\n",
      "| 40|       95|        2|    268| 601408.6|650864.44|   638|\n",
      "| 41|       95|        2|    268| 601408.6|650864.44|   638|\n",
      "| 42|       95|        2|    268| 601408.6|650864.44|   638|\n",
      "| 43|       95|        0|    284| 601375.3|650883.25|   637|\n",
      "| 43|       95|        0|    283| 601375.3|650883.25|   637|\n",
      "| 43|       95|        2|    268| 601408.6|650864.44|   638|\n",
      "| 44|       95|        1|    284|601169.25| 650839.8|   635|\n",
      "| 44|       95|        1|    283|601169.25| 650839.8|   635|\n",
      "| 44|       95|        2|    268| 601408.6|650864.44|   638|\n",
      "| 45|       95|        0|    284| 601363.4|650921.44|   664|\n",
      "| 45|       95|        0|    283| 601363.4|650921.44|   664|\n",
      "| 45|       95|        2|    268| 601408.6|650864.44|   638|\n",
      "| 46|       95|        2|    284| 601550.7| 651017.6|   693|\n",
      "| 46|       95|        2|    283| 601550.7| 651017.6|   693|\n",
      "| 46|       95|        2|    268| 601408.6|650864.44|   638|\n",
      "| 47|       95|        1|    284| 601750.2|650950.44|   668|\n",
      "| 47|       95|        1|    283| 601750.2|650950.44|   668|\n",
      "| 47|       95|        2|    268| 601408.6|650864.44|   638|\n",
      "| 48|       95|        2|    268| 601408.6|650864.44|   638|\n",
      "| 49|       95|        2|    268| 601408.6|650864.44|   638|\n",
      "| 38|      129|        0|    289| 600794.1| 650178.6|   443|\n",
      "| 39|      129|        2|    289| 600794.1| 650178.6|   443|\n",
      "| 40|      129|        1|    289|600098.44|649371.94|   220|\n",
      "| 21|       88|        0|    270| 600500.6| 649791.7|   332|\n",
      "| 22|       88|        1|    270| 599795.3|650473.25|   514|\n",
      "| 37|       88|        0|    276|600450.25| 649881.3|   358|\n",
      "| 38|       88|        2|    276|600450.25| 649881.3|   358|\n",
      "| 39|       88|        2|    276|600450.25| 649881.3|   358|\n",
      "| 40|       88|        2|    276|600450.25| 649881.3|   358|\n",
      "| 41|       88|        2|    276|600450.25| 649881.3|   358|\n",
      "| 42|       88|        2|    276|600450.25| 649881.3|   358|\n",
      "| 43|       88|        2|    276|600450.25| 649881.3|   358|\n",
      "| 44|       88|        2|    276|600450.25| 649881.3|   358|\n",
      "| 45|       88|        2|    276|600450.25| 649881.3|   358|\n",
      "| 46|       88|        2|    276|600450.25| 649881.3|   358|\n",
      "| 47|       88|        2|    276|600450.25| 649881.3|   358|\n",
      "| 48|       88|        2|    276|600450.25| 649881.3|   358|\n",
      "| 49|       88|        2|    276|600450.25| 649881.3|   358|\n",
      "| 38|       18|        0|    270| 601312.9|651376.44|   772|\n",
      "| 39|       18|        2|    270| 601312.9|651376.44|   772|\n",
      "| 40|       18|        1|    270|600605.44| 650697.0|   576|\n",
      "|  4|       72|        0|    299| 599970.3| 649360.5|   218|\n",
      "|  5|       72|        2|    299| 599863.8| 649471.1|   244|\n",
      "|  6|       72|        2|    299|599764.06| 649587.8|   270|\n",
      "|  7|       72|        2|    299|599764.06| 649587.8|   270|\n",
      "|  8|       72|        2|    299|599759.06| 649434.4|   243|\n",
      "|  9|       72|        2|    299|599870.25|649540.25|   271|\n",
      "| 10|       72|        1|    299|599896.75| 649691.5|   299|\n",
      "| 11|       72|        0|    299| 599873.2|649539.75|   271|\n",
      "| 12|       72|        1|    299| 599992.4|649636.56|   300|\n",
      "| 13|       72|        0|    299|599993.06|649483.06|   246|\n",
      "| 14|       72|        1|    299| 600016.7| 649331.3|   219|\n",
      "| 24|       72|        0|    270| 599823.6| 649492.8|   244|\n",
      "| 25|       72|        1|    270| 600804.3| 649475.1|   254|\n",
      "| 26|      106|        0|    270| 601382.2| 650267.6|   476|\n",
      "| 27|      106|        1|    270|600482.75|650658.94|   575|\n",
      "|  1|       65|        0|    242|600671.75| 649617.7|   306|\n",
      "|  1|       65|        0|    241|600671.75| 649617.7|   306|\n",
      "|  2|       65|        1|    242| 599977.9|650373.56|   488|\n",
      "|  2|       65|        1|    241| 599977.9|650373.56|   488|\n",
      "| 16|       65|        0|    242|600750.25|649582.06|   280|\n",
      "+---+---------+---------+-------+---------+---------+------+\n",
      "only showing top 100 rows\n",
      "\n"
     ]
    }
   ],
   "source": [
    "main_df.show(100)"
   ]
  },
  {
   "cell_type": "code",
   "execution_count": 14,
   "metadata": {},
   "outputs": [
    {
     "name": "stdout",
     "output_type": "stream",
     "text": [
      "root\n",
      " |-- t: integer (nullable = true)\n",
      " |-- AntennaId: integer (nullable = true)\n",
      " |-- EventCode: integer (nullable = true)\n",
      " |-- PhoneId: integer (nullable = true)\n",
      " |-- x: float (nullable = true)\n",
      " |-- y: float (nullable = true)\n",
      " |-- TileId: integer (nullable = true)\n",
      "\n"
     ]
    }
   ],
   "source": [
    "main_df.printSchema()"
   ]
  },
  {
   "cell_type": "code",
   "execution_count": 12,
   "metadata": {},
   "outputs": [
    {
     "data": {
      "text/plain": [
       "1439"
      ]
     },
     "execution_count": 12,
     "metadata": {},
     "output_type": "execute_result"
    }
   ],
   "source": [
    "main_df.count()"
   ]
  },
  {
   "cell_type": "code",
   "execution_count": 14,
   "metadata": {},
   "outputs": [],
   "source": [
    "group_df = main_df.groupBy('t','AntennaId').count()"
   ]
  },
  {
   "cell_type": "code",
   "execution_count": 15,
   "metadata": {},
   "outputs": [
    {
     "name": "stdout",
     "output_type": "stream",
     "text": [
      "+---+---------+-----+\n",
      "|  t|AntennaId|count|\n",
      "+---+---------+-----+\n",
      "|  0|        5|    1|\n",
      "|  0|       10|    1|\n",
      "|  0|       23|    2|\n",
      "|  0|       39|    1|\n",
      "|  0|       63|    1|\n",
      "|  0|       77|    1|\n",
      "|  0|       79|    2|\n",
      "|  0|      101|    1|\n",
      "|  0|      131|    1|\n",
      "|  0|      133|    2|\n",
      "|  0|      142|    1|\n",
      "|  0|      156|    2|\n",
      "|  0|      159|    1|\n",
      "|  0|      161|    1|\n",
      "|  0|      180|    1|\n",
      "|  0|      194|    1|\n",
      "|  0|      227|    2|\n",
      "|  1|        5|    1|\n",
      "|  1|       10|    1|\n",
      "|  1|       23|    3|\n",
      "+---+---------+-----+\n",
      "only showing top 20 rows\n",
      "\n"
     ]
    }
   ],
   "source": [
    "group_df.orderBy('PhoneId', 'AntennaId').show()"
   ]
  },
  {
   "cell_type": "code",
   "execution_count": 17,
   "metadata": {},
   "outputs": [
    {
     "name": "stdout",
     "output_type": "stream",
     "text": [
      "+---+-----+\n",
      "|  t|count|\n",
      "+---+-----+\n",
      "| 31|   26|\n",
      "| 34|   26|\n",
      "| 28|   24|\n",
      "| 26|   28|\n",
      "| 27|   31|\n",
      "| 44|   32|\n",
      "| 12|   31|\n",
      "| 22|   30|\n",
      "| 47|   28|\n",
      "|  1|   33|\n",
      "| 13|   30|\n",
      "| 16|   30|\n",
      "|  6|   28|\n",
      "|  3|   29|\n",
      "| 20|   29|\n",
      "| 40|   28|\n",
      "| 48|   31|\n",
      "|  5|   29|\n",
      "| 19|   32|\n",
      "| 41|   31|\n",
      "+---+-----+\n",
      "only showing top 20 rows\n",
      "\n"
     ]
    }
   ],
   "source": [
    "main_df.groupBy('t').count().show()"
   ]
  },
  {
   "cell_type": "code",
   "execution_count": 22,
   "metadata": {},
   "outputs": [
    {
     "data": {
      "text/plain": [
       "(1439, 1439)"
      ]
     },
     "execution_count": 22,
     "metadata": {},
     "output_type": "execute_result"
    }
   ],
   "source": [
    "main_df.dropDuplicates().count(), main_df.count()"
   ]
  },
  {
   "cell_type": "code",
   "execution_count": 23,
   "metadata": {},
   "outputs": [
    {
     "data": {
      "text/plain": [
       "1439"
      ]
     },
     "execution_count": 23,
     "metadata": {},
     "output_type": "execute_result"
    }
   ],
   "source": [
    "main_df.na.drop().count()"
   ]
  },
  {
   "cell_type": "markdown",
   "metadata": {},
   "source": [
    "----------------------\n",
    "----------------------"
   ]
  },
  {
   "cell_type": "markdown",
   "metadata": {},
   "source": [
    "----------------------\n",
    "----------------------"
   ]
  },
  {
   "cell_type": "markdown",
   "metadata": {},
   "source": [
    "----------------------\n",
    "----------------------"
   ]
  },
  {
   "cell_type": "code",
   "execution_count": 15,
   "metadata": {},
   "outputs": [],
   "source": [
    "df0 = main_df.filter(\"t > 20\")\n",
    "df1 = main_df.filter(\"t <= 20\")"
   ]
  },
  {
   "cell_type": "code",
   "execution_count": 16,
   "metadata": {},
   "outputs": [],
   "source": [
    "df0 = df0.na.drop()\n",
    "df0 = df0.orderBy('t', ascending=False)\n",
    "df0 = df0.dropDuplicates(subset = ['PhoneId'])"
   ]
  },
  {
   "cell_type": "code",
   "execution_count": 15,
   "metadata": {},
   "outputs": [],
   "source": [
    "df1 = df1.na.drop()\n",
    "df1 = df1.orderBy('t', ascending=False)\n",
    "df1 = df1.dropDuplicates(subset = ['PhoneId'])"
   ]
  },
  {
   "cell_type": "code",
   "execution_count": 32,
   "metadata": {},
   "outputs": [
    {
     "data": {
      "text/plain": [
       "(22, 22)"
      ]
     },
     "execution_count": 32,
     "metadata": {},
     "output_type": "execute_result"
    }
   ],
   "source": [
    "df0.count(), df1.count()"
   ]
  },
  {
   "cell_type": "code",
   "execution_count": 11,
   "metadata": {},
   "outputs": [],
   "source": [
    "def actualisation(base, batch):\n",
    "    base = base.union(batch.na.drop().orderBy('t', ascending=False).dropDuplicates(subset = ['PhoneId']))\n",
    "    base = base.orderBy('t', ascending=False).coalesce(1).dropDuplicates(subset = ['PhoneId'])\n",
    "    return base"
   ]
  },
  {
   "cell_type": "code",
   "execution_count": 17,
   "metadata": {},
   "outputs": [],
   "source": [
    "df0 = actualisation(df0, df1)"
   ]
  },
  {
   "cell_type": "code",
   "execution_count": 18,
   "metadata": {},
   "outputs": [
    {
     "name": "stdout",
     "output_type": "stream",
     "text": [
      "+---+---------+---------+-------+---------+---------+------+\n",
      "|  t|AntennaId|EventCode|PhoneId|        x|        y|TileId|\n",
      "+---+---------+---------+-------+---------+---------+------+\n",
      "| 49|       23|        0|    296| 600054.3| 651917.6|   921|\n",
      "| 49|      213|        2|    253|599841.56| 650137.1|   433|\n",
      "| 49|      140|        2|    230| 600220.8| 649846.7|   356|\n",
      "| 49|      127|        2|    246|600323.94|651923.06|   924|\n",
      "| 49|      171|        1|    291|601487.94|650147.75|   450|\n",
      "| 49|      143|        2|    259| 599961.9|651983.94|   920|\n",
      "| 49|       23|        0|    297| 600054.3| 651917.6|   921|\n",
      "| 49|       64|        2|    280| 600858.2|649640.56|   308|\n",
      "| 49|      153|        2|    283|601957.44|650987.94|   670|\n",
      "| 49|      171|        1|    292|601487.94|650147.75|   450|\n",
      "| 49|       95|        2|    268| 601408.6|650864.44|   638|\n",
      "| 49|       65|        2|    299| 600928.2| 649582.7|   282|\n",
      "| 49|      197|        0|    257| 600768.0|651659.44|   847|\n",
      "| 49|      217|        0|    241| 600851.9| 648655.8|    38|\n",
      "| 49|       80|        2|    273|600023.06|651205.75|   732|\n",
      "| 49|      131|        2|    234|601514.94| 650068.4|   423|\n",
      "| 49|      136|        2|    289| 601150.1| 649202.7|   203|\n",
      "| 49|      127|        2|    245|600323.94|651923.06|   924|\n",
      "| 49|      187|        2|    270| 600119.9|650218.94|   463|\n",
      "| 49|      153|        2|    284|601957.44|650987.94|   670|\n",
      "+---+---------+---------+-------+---------+---------+------+\n",
      "only showing top 20 rows\n",
      "\n"
     ]
    }
   ],
   "source": [
    "df0.show()"
   ]
  },
  {
   "cell_type": "code",
   "execution_count": 21,
   "metadata": {},
   "outputs": [
    {
     "name": "stdout",
     "output_type": "stream",
     "text": [
      "+------+-----+\n",
      "|TileId|count|\n",
      "+------+-----+\n",
      "|   921|    2|\n",
      "|   433|    1|\n",
      "|   356|    1|\n",
      "|   924|    2|\n",
      "|   450|    2|\n",
      "|   920|    1|\n",
      "|   308|    1|\n",
      "|   670|    2|\n",
      "|   638|    1|\n",
      "|   282|    1|\n",
      "|   847|    1|\n",
      "|    38|    2|\n",
      "|   732|    1|\n",
      "|   423|    1|\n",
      "|   203|    1|\n",
      "|   463|    1|\n",
      "|   358|    1|\n",
      "+------+-----+\n",
      "\n"
     ]
    }
   ],
   "source": [
    "tile_base = df0.groupBy('TileId').count()\n",
    "tile_base.show()"
   ]
  },
  {
   "cell_type": "code",
   "execution_count": null,
   "metadata": {},
   "outputs": [],
   "source": []
  },
  {
   "cell_type": "code",
   "execution_count": null,
   "metadata": {},
   "outputs": [],
   "source": []
  },
  {
   "cell_type": "code",
   "execution_count": null,
   "metadata": {},
   "outputs": [],
   "source": []
  },
  {
   "cell_type": "code",
   "execution_count": null,
   "metadata": {},
   "outputs": [],
   "source": []
  },
  {
   "cell_type": "markdown",
   "metadata": {},
   "source": [
    "Append stream (df1) to base (df0)"
   ]
  },
  {
   "cell_type": "code",
   "execution_count": 16,
   "metadata": {},
   "outputs": [],
   "source": [
    "df0 = df0.union(df1)"
   ]
  },
  {
   "cell_type": "code",
   "execution_count": 34,
   "metadata": {},
   "outputs": [
    {
     "data": {
      "text/plain": [
       "44"
      ]
     },
     "execution_count": 34,
     "metadata": {},
     "output_type": "execute_result"
    }
   ],
   "source": [
    "df0.count()"
   ]
  },
  {
   "cell_type": "markdown",
   "metadata": {},
   "source": [
    "On check si on a des `PhoneId` en doublon"
   ]
  },
  {
   "cell_type": "code",
   "execution_count": 35,
   "metadata": {},
   "outputs": [
    {
     "name": "stdout",
     "output_type": "stream",
     "text": [
      "+-------+-----+\n",
      "|PhoneId|count|\n",
      "+-------+-----+\n",
      "|    296|    2|\n",
      "|    253|    2|\n",
      "|    230|    2|\n",
      "|    246|    2|\n",
      "|    291|    2|\n",
      "|    259|    2|\n",
      "|    297|    2|\n",
      "|    280|    2|\n",
      "|    283|    2|\n",
      "|    292|    2|\n",
      "|    268|    2|\n",
      "|    299|    2|\n",
      "|    257|    2|\n",
      "|    241|    2|\n",
      "|    273|    2|\n",
      "|    234|    2|\n",
      "|    289|    2|\n",
      "|    245|    2|\n",
      "|    270|    2|\n",
      "|    284|    2|\n",
      "+-------+-----+\n",
      "only showing top 20 rows\n",
      "\n"
     ]
    }
   ],
   "source": [
    "df0.groupBy('PhoneId').count().show()"
   ]
  },
  {
   "cell_type": "code",
   "execution_count": 65,
   "metadata": {},
   "outputs": [
    {
     "data": {
      "text/plain": [
       "[Row(t=46, AntennaId=73, EventCode=0, PhoneId=242, x=602098.6875, y=650285.375, TileId=483),\n",
       " Row(t=46, AntennaId=73, EventCode=0, PhoneId=241, x=602098.6875, y=650285.375, TileId=483),\n",
       " Row(t=47, AntennaId=73, EventCode=2, PhoneId=242, x=602098.6875, y=650285.375, TileId=483)]"
      ]
     },
     "execution_count": 65,
     "metadata": {},
     "output_type": "execute_result"
    }
   ],
   "source": [
    "df0.head(3)"
   ]
  },
  {
   "cell_type": "markdown",
   "metadata": {},
   "source": [
    "[orderBy](https://spark.apache.org/docs/latest/api/python/pyspark.sql.html#pyspark.sql.DataFrame.orderBy) `t`"
   ]
  },
  {
   "cell_type": "code",
   "execution_count": 17,
   "metadata": {},
   "outputs": [],
   "source": [
    "df0 = df0.orderBy('t', ascending=False)"
   ]
  },
  {
   "cell_type": "code",
   "execution_count": 37,
   "metadata": {},
   "outputs": [
    {
     "data": {
      "text/plain": [
       "44"
      ]
     },
     "execution_count": 37,
     "metadata": {},
     "output_type": "execute_result"
    }
   ],
   "source": [
    "df0.count()"
   ]
  },
  {
   "cell_type": "markdown",
   "metadata": {},
   "source": [
    "[coalesce](https://spark.apache.org/docs/latest/api/python/pyspark.sql.html#pyspark.sql.functions.coalesce) 1"
   ]
  },
  {
   "cell_type": "code",
   "execution_count": 18,
   "metadata": {},
   "outputs": [],
   "source": [
    "df0 = df0.coalesce(1)"
   ]
  },
  {
   "cell_type": "code",
   "execution_count": 39,
   "metadata": {},
   "outputs": [
    {
     "data": {
      "text/plain": [
       "44"
      ]
     },
     "execution_count": 39,
     "metadata": {},
     "output_type": "execute_result"
    }
   ],
   "source": [
    "df0.count()"
   ]
  },
  {
   "cell_type": "code",
   "execution_count": null,
   "metadata": {},
   "outputs": [],
   "source": [
    "df0.show()"
   ]
  },
  {
   "cell_type": "code",
   "execution_count": null,
   "metadata": {},
   "outputs": [],
   "source": [
    "df0.dropDuplicates(subset = ['PhoneId']).show(5)"
   ]
  },
  {
   "cell_type": "code",
   "execution_count": 19,
   "metadata": {},
   "outputs": [],
   "source": [
    "df0 = df0.dropDuplicates(subset = ['PhoneId'])"
   ]
  },
  {
   "cell_type": "code",
   "execution_count": 71,
   "metadata": {},
   "outputs": [
    {
     "data": {
      "text/plain": [
       "8"
      ]
     },
     "execution_count": 71,
     "metadata": {},
     "output_type": "execute_result"
    }
   ],
   "source": [
    "df0.count()"
   ]
  },
  {
   "cell_type": "code",
   "execution_count": 20,
   "metadata": {},
   "outputs": [
    {
     "name": "stdout",
     "output_type": "stream",
     "text": [
      "+---+---------+---------+-------+---------+---------+------+\n",
      "|  t|AntennaId|EventCode|PhoneId|        x|        y|TileId|\n",
      "+---+---------+---------+-------+---------+---------+------+\n",
      "| 49|       23|        0|    296| 600054.3| 651917.6|   921|\n",
      "| 49|      213|        2|    253|599841.56| 650137.1|   433|\n",
      "| 49|      140|        2|    230| 600220.8| 649846.7|   356|\n",
      "| 49|      127|        2|    246|600323.94|651923.06|   924|\n",
      "| 49|      171|        1|    291|601487.94|650147.75|   450|\n",
      "| 49|      143|        2|    259| 599961.9|651983.94|   920|\n",
      "| 49|       23|        0|    297| 600054.3| 651917.6|   921|\n",
      "| 49|       64|        2|    280| 600858.2|649640.56|   308|\n",
      "| 49|      153|        2|    283|601957.44|650987.94|   670|\n",
      "| 49|      171|        1|    292|601487.94|650147.75|   450|\n",
      "| 49|       95|        2|    268| 601408.6|650864.44|   638|\n",
      "| 49|       65|        2|    299| 600928.2| 649582.7|   282|\n",
      "| 49|      197|        0|    257| 600768.0|651659.44|   847|\n",
      "| 49|      217|        0|    241| 600851.9| 648655.8|    38|\n",
      "| 49|       80|        2|    273|600023.06|651205.75|   732|\n",
      "| 49|      131|        2|    234|601514.94| 650068.4|   423|\n",
      "| 49|      136|        2|    289| 601150.1| 649202.7|   203|\n",
      "| 49|      127|        2|    245|600323.94|651923.06|   924|\n",
      "| 49|      187|        2|    270| 600119.9|650218.94|   463|\n",
      "| 49|      153|        2|    284|601957.44|650987.94|   670|\n",
      "+---+---------+---------+-------+---------+---------+------+\n",
      "only showing top 20 rows\n",
      "\n"
     ]
    }
   ],
   "source": [
    "df0.show()"
   ]
  },
  {
   "cell_type": "code",
   "execution_count": 23,
   "metadata": {},
   "outputs": [
    {
     "data": {
      "text/plain": [
       "22"
      ]
     },
     "execution_count": 23,
     "metadata": {},
     "output_type": "execute_result"
    }
   ],
   "source": [
    "df0.count()"
   ]
  },
  {
   "cell_type": "code",
   "execution_count": 25,
   "metadata": {},
   "outputs": [
    {
     "ename": "Py4JJavaError",
     "evalue": "An error occurred while calling o2309.showString.\n: org.apache.spark.SparkException: Job 20 cancelled because SparkContext was shut down\n\tat org.apache.spark.scheduler.DAGScheduler$$anonfun$cleanUpAfterSchedulerStop$1.apply(DAGScheduler.scala:933)\n\tat org.apache.spark.scheduler.DAGScheduler$$anonfun$cleanUpAfterSchedulerStop$1.apply(DAGScheduler.scala:931)\n\tat scala.collection.mutable.HashSet.foreach(HashSet.scala:78)\n\tat org.apache.spark.scheduler.DAGScheduler.cleanUpAfterSchedulerStop(DAGScheduler.scala:931)\n\tat org.apache.spark.scheduler.DAGSchedulerEventProcessLoop.onStop(DAGScheduler.scala:2130)\n\tat org.apache.spark.util.EventLoop.stop(EventLoop.scala:84)\n\tat org.apache.spark.scheduler.DAGScheduler.stop(DAGScheduler.scala:2043)\n\tat org.apache.spark.SparkContext$$anonfun$stop$6.apply$mcV$sp(SparkContext.scala:1949)\n\tat org.apache.spark.util.Utils$.tryLogNonFatalError(Utils.scala:1340)\n\tat org.apache.spark.SparkContext.stop(SparkContext.scala:1948)\n\tat org.apache.spark.SparkContext$$anon$3.run(SparkContext.scala:1903)\n\tat org.apache.spark.scheduler.DAGScheduler.runJob(DAGScheduler.scala:738)\n\tat org.apache.spark.SparkContext.runJob(SparkContext.scala:2061)\n\tat org.apache.spark.SparkContext.runJob(SparkContext.scala:2082)\n\tat org.apache.spark.SparkContext.runJob(SparkContext.scala:2101)\n\tat org.apache.spark.sql.execution.SparkPlan.executeTake(SparkPlan.scala:365)\n\tat org.apache.spark.sql.execution.CollectLimitExec.executeCollect(limit.scala:38)\n\tat org.apache.spark.sql.Dataset.org$apache$spark$sql$Dataset$$collectFromPlan(Dataset.scala:3389)\n\tat org.apache.spark.sql.Dataset$$anonfun$head$1.apply(Dataset.scala:2550)\n\tat org.apache.spark.sql.Dataset$$anonfun$head$1.apply(Dataset.scala:2550)\n\tat org.apache.spark.sql.Dataset$$anonfun$52.apply(Dataset.scala:3370)\n\tat org.apache.spark.sql.execution.SQLExecution$$anonfun$withNewExecutionId$1.apply(SQLExecution.scala:80)\n\tat org.apache.spark.sql.execution.SQLExecution$.withSQLConfPropagated(SQLExecution.scala:127)\n\tat org.apache.spark.sql.execution.SQLExecution$.withNewExecutionId(SQLExecution.scala:75)\n\tat org.apache.spark.sql.Dataset.withAction(Dataset.scala:3369)\n\tat org.apache.spark.sql.Dataset.head(Dataset.scala:2550)\n\tat org.apache.spark.sql.Dataset.take(Dataset.scala:2764)\n\tat org.apache.spark.sql.Dataset.getRows(Dataset.scala:254)\n\tat org.apache.spark.sql.Dataset.showString(Dataset.scala:291)\n\tat sun.reflect.NativeMethodAccessorImpl.invoke0(Native Method)\n\tat sun.reflect.NativeMethodAccessorImpl.invoke(NativeMethodAccessorImpl.java:62)\n\tat sun.reflect.DelegatingMethodAccessorImpl.invoke(DelegatingMethodAccessorImpl.java:43)\n\tat java.lang.reflect.Method.invoke(Method.java:498)\n\tat py4j.reflection.MethodInvoker.invoke(MethodInvoker.java:244)\n\tat py4j.reflection.ReflectionEngine.invoke(ReflectionEngine.java:357)\n\tat py4j.Gateway.invoke(Gateway.java:282)\n\tat py4j.commands.AbstractCommand.invokeMethod(AbstractCommand.java:132)\n\tat py4j.commands.CallCommand.execute(CallCommand.java:79)\n\tat py4j.GatewayConnection.run(GatewayConnection.java:238)\n\tat java.lang.Thread.run(Thread.java:748)\n",
     "output_type": "error",
     "traceback": [
      "\u001b[0;31m---------------------------------------------------------------------------\u001b[0m",
      "\u001b[0;31mPy4JJavaError\u001b[0m                             Traceback (most recent call last)",
      "\u001b[0;32m<ipython-input-25-04febec2aa71>\u001b[0m in \u001b[0;36m<module>\u001b[0;34m\u001b[0m\n\u001b[0;32m----> 1\u001b[0;31m \u001b[0mdf0\u001b[0m\u001b[0;34m.\u001b[0m\u001b[0mgroupBy\u001b[0m\u001b[0;34m(\u001b[0m\u001b[0;34m'TileId'\u001b[0m\u001b[0;34m)\u001b[0m\u001b[0;34m.\u001b[0m\u001b[0mcount\u001b[0m\u001b[0;34m(\u001b[0m\u001b[0;34m)\u001b[0m\u001b[0;34m.\u001b[0m\u001b[0mshow\u001b[0m\u001b[0;34m(\u001b[0m\u001b[0;34m)\u001b[0m\u001b[0;34m\u001b[0m\u001b[0;34m\u001b[0m\u001b[0m\n\u001b[0m",
      "\u001b[0;32m~/spark-hadoop/spark-2.4.5-bin-hadoop2.7/python/pyspark/sql/dataframe.py\u001b[0m in \u001b[0;36mshow\u001b[0;34m(self, n, truncate, vertical)\u001b[0m\n\u001b[1;32m    378\u001b[0m         \"\"\"\n\u001b[1;32m    379\u001b[0m         \u001b[0;32mif\u001b[0m \u001b[0misinstance\u001b[0m\u001b[0;34m(\u001b[0m\u001b[0mtruncate\u001b[0m\u001b[0;34m,\u001b[0m \u001b[0mbool\u001b[0m\u001b[0;34m)\u001b[0m \u001b[0;32mand\u001b[0m \u001b[0mtruncate\u001b[0m\u001b[0;34m:\u001b[0m\u001b[0;34m\u001b[0m\u001b[0;34m\u001b[0m\u001b[0m\n\u001b[0;32m--> 380\u001b[0;31m             \u001b[0mprint\u001b[0m\u001b[0;34m(\u001b[0m\u001b[0mself\u001b[0m\u001b[0;34m.\u001b[0m\u001b[0m_jdf\u001b[0m\u001b[0;34m.\u001b[0m\u001b[0mshowString\u001b[0m\u001b[0;34m(\u001b[0m\u001b[0mn\u001b[0m\u001b[0;34m,\u001b[0m \u001b[0;36m20\u001b[0m\u001b[0;34m,\u001b[0m \u001b[0mvertical\u001b[0m\u001b[0;34m)\u001b[0m\u001b[0;34m)\u001b[0m\u001b[0;34m\u001b[0m\u001b[0;34m\u001b[0m\u001b[0m\n\u001b[0m\u001b[1;32m    381\u001b[0m         \u001b[0;32melse\u001b[0m\u001b[0;34m:\u001b[0m\u001b[0;34m\u001b[0m\u001b[0;34m\u001b[0m\u001b[0m\n\u001b[1;32m    382\u001b[0m             \u001b[0mprint\u001b[0m\u001b[0;34m(\u001b[0m\u001b[0mself\u001b[0m\u001b[0;34m.\u001b[0m\u001b[0m_jdf\u001b[0m\u001b[0;34m.\u001b[0m\u001b[0mshowString\u001b[0m\u001b[0;34m(\u001b[0m\u001b[0mn\u001b[0m\u001b[0;34m,\u001b[0m \u001b[0mint\u001b[0m\u001b[0;34m(\u001b[0m\u001b[0mtruncate\u001b[0m\u001b[0;34m)\u001b[0m\u001b[0;34m,\u001b[0m \u001b[0mvertical\u001b[0m\u001b[0;34m)\u001b[0m\u001b[0;34m)\u001b[0m\u001b[0;34m\u001b[0m\u001b[0;34m\u001b[0m\u001b[0m\n",
      "\u001b[0;32m~/spark-hadoop/spark-2.4.5-bin-hadoop2.7/python/lib/py4j-0.10.7-src.zip/py4j/java_gateway.py\u001b[0m in \u001b[0;36m__call__\u001b[0;34m(self, *args)\u001b[0m\n\u001b[1;32m   1255\u001b[0m         \u001b[0manswer\u001b[0m \u001b[0;34m=\u001b[0m \u001b[0mself\u001b[0m\u001b[0;34m.\u001b[0m\u001b[0mgateway_client\u001b[0m\u001b[0;34m.\u001b[0m\u001b[0msend_command\u001b[0m\u001b[0;34m(\u001b[0m\u001b[0mcommand\u001b[0m\u001b[0;34m)\u001b[0m\u001b[0;34m\u001b[0m\u001b[0;34m\u001b[0m\u001b[0m\n\u001b[1;32m   1256\u001b[0m         return_value = get_return_value(\n\u001b[0;32m-> 1257\u001b[0;31m             answer, self.gateway_client, self.target_id, self.name)\n\u001b[0m\u001b[1;32m   1258\u001b[0m \u001b[0;34m\u001b[0m\u001b[0m\n\u001b[1;32m   1259\u001b[0m         \u001b[0;32mfor\u001b[0m \u001b[0mtemp_arg\u001b[0m \u001b[0;32min\u001b[0m \u001b[0mtemp_args\u001b[0m\u001b[0;34m:\u001b[0m\u001b[0;34m\u001b[0m\u001b[0;34m\u001b[0m\u001b[0m\n",
      "\u001b[0;32m~/spark-hadoop/spark-2.4.5-bin-hadoop2.7/python/pyspark/sql/utils.py\u001b[0m in \u001b[0;36mdeco\u001b[0;34m(*a, **kw)\u001b[0m\n\u001b[1;32m     61\u001b[0m     \u001b[0;32mdef\u001b[0m \u001b[0mdeco\u001b[0m\u001b[0;34m(\u001b[0m\u001b[0;34m*\u001b[0m\u001b[0ma\u001b[0m\u001b[0;34m,\u001b[0m \u001b[0;34m**\u001b[0m\u001b[0mkw\u001b[0m\u001b[0;34m)\u001b[0m\u001b[0;34m:\u001b[0m\u001b[0;34m\u001b[0m\u001b[0;34m\u001b[0m\u001b[0m\n\u001b[1;32m     62\u001b[0m         \u001b[0;32mtry\u001b[0m\u001b[0;34m:\u001b[0m\u001b[0;34m\u001b[0m\u001b[0;34m\u001b[0m\u001b[0m\n\u001b[0;32m---> 63\u001b[0;31m             \u001b[0;32mreturn\u001b[0m \u001b[0mf\u001b[0m\u001b[0;34m(\u001b[0m\u001b[0;34m*\u001b[0m\u001b[0ma\u001b[0m\u001b[0;34m,\u001b[0m \u001b[0;34m**\u001b[0m\u001b[0mkw\u001b[0m\u001b[0;34m)\u001b[0m\u001b[0;34m\u001b[0m\u001b[0;34m\u001b[0m\u001b[0m\n\u001b[0m\u001b[1;32m     64\u001b[0m         \u001b[0;32mexcept\u001b[0m \u001b[0mpy4j\u001b[0m\u001b[0;34m.\u001b[0m\u001b[0mprotocol\u001b[0m\u001b[0;34m.\u001b[0m\u001b[0mPy4JJavaError\u001b[0m \u001b[0;32mas\u001b[0m \u001b[0me\u001b[0m\u001b[0;34m:\u001b[0m\u001b[0;34m\u001b[0m\u001b[0;34m\u001b[0m\u001b[0m\n\u001b[1;32m     65\u001b[0m             \u001b[0ms\u001b[0m \u001b[0;34m=\u001b[0m \u001b[0me\u001b[0m\u001b[0;34m.\u001b[0m\u001b[0mjava_exception\u001b[0m\u001b[0;34m.\u001b[0m\u001b[0mtoString\u001b[0m\u001b[0;34m(\u001b[0m\u001b[0;34m)\u001b[0m\u001b[0;34m\u001b[0m\u001b[0;34m\u001b[0m\u001b[0m\n",
      "\u001b[0;32m~/spark-hadoop/spark-2.4.5-bin-hadoop2.7/python/lib/py4j-0.10.7-src.zip/py4j/protocol.py\u001b[0m in \u001b[0;36mget_return_value\u001b[0;34m(answer, gateway_client, target_id, name)\u001b[0m\n\u001b[1;32m    326\u001b[0m                 raise Py4JJavaError(\n\u001b[1;32m    327\u001b[0m                     \u001b[0;34m\"An error occurred while calling {0}{1}{2}.\\n\"\u001b[0m\u001b[0;34m.\u001b[0m\u001b[0;34m\u001b[0m\u001b[0;34m\u001b[0m\u001b[0m\n\u001b[0;32m--> 328\u001b[0;31m                     format(target_id, \".\", name), value)\n\u001b[0m\u001b[1;32m    329\u001b[0m             \u001b[0;32melse\u001b[0m\u001b[0;34m:\u001b[0m\u001b[0;34m\u001b[0m\u001b[0;34m\u001b[0m\u001b[0m\n\u001b[1;32m    330\u001b[0m                 raise Py4JError(\n",
      "\u001b[0;31mPy4JJavaError\u001b[0m: An error occurred while calling o2309.showString.\n: org.apache.spark.SparkException: Job 20 cancelled because SparkContext was shut down\n\tat org.apache.spark.scheduler.DAGScheduler$$anonfun$cleanUpAfterSchedulerStop$1.apply(DAGScheduler.scala:933)\n\tat org.apache.spark.scheduler.DAGScheduler$$anonfun$cleanUpAfterSchedulerStop$1.apply(DAGScheduler.scala:931)\n\tat scala.collection.mutable.HashSet.foreach(HashSet.scala:78)\n\tat org.apache.spark.scheduler.DAGScheduler.cleanUpAfterSchedulerStop(DAGScheduler.scala:931)\n\tat org.apache.spark.scheduler.DAGSchedulerEventProcessLoop.onStop(DAGScheduler.scala:2130)\n\tat org.apache.spark.util.EventLoop.stop(EventLoop.scala:84)\n\tat org.apache.spark.scheduler.DAGScheduler.stop(DAGScheduler.scala:2043)\n\tat org.apache.spark.SparkContext$$anonfun$stop$6.apply$mcV$sp(SparkContext.scala:1949)\n\tat org.apache.spark.util.Utils$.tryLogNonFatalError(Utils.scala:1340)\n\tat org.apache.spark.SparkContext.stop(SparkContext.scala:1948)\n\tat org.apache.spark.SparkContext$$anon$3.run(SparkContext.scala:1903)\n\tat org.apache.spark.scheduler.DAGScheduler.runJob(DAGScheduler.scala:738)\n\tat org.apache.spark.SparkContext.runJob(SparkContext.scala:2061)\n\tat org.apache.spark.SparkContext.runJob(SparkContext.scala:2082)\n\tat org.apache.spark.SparkContext.runJob(SparkContext.scala:2101)\n\tat org.apache.spark.sql.execution.SparkPlan.executeTake(SparkPlan.scala:365)\n\tat org.apache.spark.sql.execution.CollectLimitExec.executeCollect(limit.scala:38)\n\tat org.apache.spark.sql.Dataset.org$apache$spark$sql$Dataset$$collectFromPlan(Dataset.scala:3389)\n\tat org.apache.spark.sql.Dataset$$anonfun$head$1.apply(Dataset.scala:2550)\n\tat org.apache.spark.sql.Dataset$$anonfun$head$1.apply(Dataset.scala:2550)\n\tat org.apache.spark.sql.Dataset$$anonfun$52.apply(Dataset.scala:3370)\n\tat org.apache.spark.sql.execution.SQLExecution$$anonfun$withNewExecutionId$1.apply(SQLExecution.scala:80)\n\tat org.apache.spark.sql.execution.SQLExecution$.withSQLConfPropagated(SQLExecution.scala:127)\n\tat org.apache.spark.sql.execution.SQLExecution$.withNewExecutionId(SQLExecution.scala:75)\n\tat org.apache.spark.sql.Dataset.withAction(Dataset.scala:3369)\n\tat org.apache.spark.sql.Dataset.head(Dataset.scala:2550)\n\tat org.apache.spark.sql.Dataset.take(Dataset.scala:2764)\n\tat org.apache.spark.sql.Dataset.getRows(Dataset.scala:254)\n\tat org.apache.spark.sql.Dataset.showString(Dataset.scala:291)\n\tat sun.reflect.NativeMethodAccessorImpl.invoke0(Native Method)\n\tat sun.reflect.NativeMethodAccessorImpl.invoke(NativeMethodAccessorImpl.java:62)\n\tat sun.reflect.DelegatingMethodAccessorImpl.invoke(DelegatingMethodAccessorImpl.java:43)\n\tat java.lang.reflect.Method.invoke(Method.java:498)\n\tat py4j.reflection.MethodInvoker.invoke(MethodInvoker.java:244)\n\tat py4j.reflection.ReflectionEngine.invoke(ReflectionEngine.java:357)\n\tat py4j.Gateway.invoke(Gateway.java:282)\n\tat py4j.commands.AbstractCommand.invokeMethod(AbstractCommand.java:132)\n\tat py4j.commands.CallCommand.execute(CallCommand.java:79)\n\tat py4j.GatewayConnection.run(GatewayConnection.java:238)\n\tat java.lang.Thread.run(Thread.java:748)\n"
     ]
    }
   ],
   "source": [
    "df0.groupBy('TileId').count().show()"
   ]
  },
  {
   "cell_type": "code",
   "execution_count": null,
   "metadata": {},
   "outputs": [],
   "source": []
  },
  {
   "cell_type": "code",
   "execution_count": null,
   "metadata": {},
   "outputs": [],
   "source": []
  },
  {
   "cell_type": "code",
   "execution_count": null,
   "metadata": {},
   "outputs": [],
   "source": []
  },
  {
   "cell_type": "code",
   "execution_count": null,
   "metadata": {},
   "outputs": [],
   "source": []
  },
  {
   "cell_type": "code",
   "execution_count": 74,
   "metadata": {},
   "outputs": [
    {
     "data": {
      "text/plain": [
       "1439"
      ]
     },
     "execution_count": 74,
     "metadata": {},
     "output_type": "execute_result"
    }
   ],
   "source": [
    "main_df.count()"
   ]
  },
  {
   "cell_type": "code",
   "execution_count": 21,
   "metadata": {},
   "outputs": [
    {
     "data": {
      "text/plain": [
       "22"
      ]
     },
     "execution_count": 21,
     "metadata": {},
     "output_type": "execute_result"
    }
   ],
   "source": [
    "main_df.groupBy('PhoneId').count().count()"
   ]
  },
  {
   "cell_type": "code",
   "execution_count": null,
   "metadata": {},
   "outputs": [],
   "source": []
  }
 ],
 "metadata": {
  "kernelspec": {
   "display_name": "Python 3",
   "language": "python",
   "name": "python3"
  },
  "language_info": {
   "codemirror_mode": {
    "name": "ipython",
    "version": 3
   },
   "file_extension": ".py",
   "mimetype": "text/x-python",
   "name": "python",
   "nbconvert_exporter": "python",
   "pygments_lexer": "ipython3",
   "version": "3.7.7"
  }
 },
 "nbformat": 4,
 "nbformat_minor": 4
}
