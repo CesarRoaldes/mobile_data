{
 "cells": [
  {
   "cell_type": "code",
   "execution_count": 75,
   "metadata": {},
   "outputs": [],
   "source": [
    "from pykafka import KafkaClient\n",
    "import json \n",
    "from datetime import datetime\n",
    "import time\n",
    "import uuid \n",
    "import pandas as pd\n",
    "\n",
    "input_file= pd.read_csv('/home/cerezamo/projet_stream/simulator/mobile_data/kafka_minimal_df.csv')\n",
    "\n",
    "client = KafkaClient(hosts=\"localhost:9092\")\n",
    "topic=client.topics['antennos']\n",
    "producer = topic.get_sync_producer()\n",
    "\n",
    "input_file = input_file[['t','PhoneId','x','y']]\n",
    "\n",
    "input_file.PhoneId = input_file.PhoneId.astype(str)\n",
    "\n",
    "data = {'x' : [] , 'y' : [] , 'text' : []}\n",
    "\n",
    "def generate_checkpoint(input_file):\n",
    "    for i in range(0,input_file.t.max()):\n",
    "        input_file_topush = input_file[input_file.t==i]\n",
    "        data = {'x' : [] , 'y' : [] , 'text' : []}\n",
    "        \n",
    "        j=0\n",
    "        while j < len(input_file_topush):\n",
    "            data['text'].append(input_file['PhoneId'][j])\n",
    "            data['x'].append(input_file['x'][j]/1000)\n",
    "            data['y'].append(input_file['y'][j]/1000)\n",
    "            j+=1\n",
    "            \n",
    "        message = json.dumps(data)\n",
    "        print(message)\n",
    "        producer.produce(message.encode('ascii'))\n",
    "        time.sleep(3)\n",
    "        \n",
    "generate_checkpoint(input_file)"
   ]
  },
  {
   "cell_type": "code",
   "execution_count": null,
   "metadata": {},
   "outputs": [],
   "source": []
  }
 ],
 "metadata": {
  "kernelspec": {
   "display_name": "Python 3",
   "language": "python",
   "name": "python3"
  },
  "language_info": {
   "codemirror_mode": {
    "name": "ipython",
    "version": 3
   },
   "file_extension": ".py",
   "mimetype": "text/x-python",
   "name": "python",
   "nbconvert_exporter": "python",
   "pygments_lexer": "ipython3",
   "version": "3.7.7"
  }
 },
 "nbformat": 4,
 "nbformat_minor": 4
}
